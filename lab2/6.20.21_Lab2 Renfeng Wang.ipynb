{
 "cells": [
  {
   "cell_type": "markdown",
   "id": "bb90ff6b",
   "metadata": {},
   "source": [
    "# Ariline Customer Satisfaction (Lab 2: DS7331)\n",
    "\n",
    "SMU Student collaboration:\n",
    "1. Renfeng Wang\n",
    "2. Alexander Sepenu\n",
    "3. Zachary Zaiken\n",
    "4. Venkata 'MG' Vanga\n",
    "\n",
    "\n",
    "\n",
    "In continuation of the discussion from Mini Lab, we continue with the Airline customer satisfaction data set for this Lab 2 to focus on more classification models and apply models to a different attribute.\n",
    "\n",
    "________________________________________________________________________________________________________"
   ]
  },
  {
   "cell_type": "markdown",
   "id": "fae9934d",
   "metadata": {},
   "source": [
    "## 1. Data Preparation\n",
    "### Part 1\n",
    "\n",
    "The code below shows one-hot encoding, PCA and how we split the explanatory variable and response variable. In lab 2, we are still going to use satisfaction attribute as one of our response variable. In addition, we will try to predict whether the customer found the flight to be clean or not, that is predicting the cleanliness attribute as second response variable. Thus, we will have two sets of explanatory variable and response variable."
   ]
  },
  {
   "cell_type": "markdown",
   "id": "4eebda20",
   "metadata": {},
   "source": [
    "### A. Response Variable: Satisfaction and expalanatory variables creation\n",
    "\n",
    "The response variable satisfaction is split to 'neutral or dissatisfied':0 and 'satisfied':1.\n",
    "\n",
    "The continuous variables 'flight_distance', 'departure_delay_in_minutes', arrival_delay_in_minutes and 'age' are segmented using pandas cut feature as shown below.\n",
    "\n",
    "These categorical features are further converted by using pandas get_dummy function (one-hot encoding) to use in the final prediction of airline customer satisfaction. Because model algorithm would be more likely to cluster the attribute with 3s and 2s together than the attribute with 3s and 1s together. In contrast, if we treat these numbers like categorical data, then we treat each one as a separate category that is no more or less similar to any of the other categories. Thus, the likelihood of clustering attribute with 3s with 2s is the same as clustering 3s with 1s, and that approach is more reasonable.\n",
    "The original attributes that got transformed are dropped from the original 'airline_df' dataframe to form 'X_a' dataframe. The response dataframe 'y_a' has the transformed satisfaction data.\n",
    "Both 'X_a' and 'y_a' are combined into 'airline_df_dummy_satisfied' dataframe that is used for prediction in this scenario A.\n",
    "\n",
    "The original attributes that got transformed are dropped from the original 'airline_df' dataframe to form 'X_a' dataframe. The response dataframe 'y_a' has the transformed satisfaction data. \n",
    "\n",
    "Both 'X_a' and 'y_a' are combined into 'airline_df_dummy_satisfied' dataframe that is used for prediction in this scenario A.\n"
   ]
  },
  {
   "cell_type": "code",
   "execution_count": 1,
   "id": "364532de",
   "metadata": {},
   "outputs": [],
   "source": [
    "import pandas as pd\n",
    "import numpy as np\n",
    "import warnings\n",
    "warnings.filterwarnings('ignore')\n",
    "\n",
    "airline_df = pd.read_csv('https://raw.githubusercontent.com/wangrenfeng0/Machine-Learning-I/main/airline_passenger_satisfaction.csv') \n",
    "\n",
    "if 'Unnamed: 0' in airline_df:\n",
    "    del airline_df['Unnamed: 0']\n",
    "\n",
    "airline_df = airline_df.dropna()\n",
    "\n",
    "Satisfaction ={'neutral or dissatisfied':0,'satisfied':1}\n",
    "airline_df.satisfaction = [Satisfaction[item] for item in airline_df.satisfaction]\n",
    "\n",
    "airline_df['flight_range'] = pd.cut(airline_df.flight_distance,[0,750,2000,10000],3,labels=[0,1,2])\n",
    "airline_df.flight_range = airline_df.flight_range.astype(int)\n",
    "\n",
    "airline_df['departure_delay_range'] = pd.cut(airline_df.departure_delay_in_minutes,[-1,30,90,1600],3,labels=[0,1,2])\n",
    "airline_df.departure_delay_range = airline_df.departure_delay_range.astype(int)\n",
    "\n",
    "airline_df['arrival_delay_range'] = pd.cut(airline_df.arrival_delay_in_minutes,[-1,30,90,1600],3,labels=[0,1,2])\n",
    "airline_df.arrival_delay_range = airline_df.arrival_delay_range.astype(int)\n",
    "\n",
    "airline_df['age_range'] = pd.cut(airline_df.age,[0,16,65,120],3,labels=[0,1,2])\n",
    "airline_df.age_range = airline_df.age_range.astype(int)\n",
    "\n",
    "X_a = airline_df.drop('satisfaction', axis=1).copy()\n",
    "\n",
    "\n",
    "y_a= airline_df['satisfaction'].copy()\n",
    "\n",
    "    \n",
    "X_a = pd.get_dummies(X_a, columns=['Gender', 'customer_type','type_of_travel','customer_class',\n",
    "                                       'flight_range','departure_delay_range','arrival_delay_range',\n",
    "                                       'age_range'])\n",
    "\n",
    "if 'Gender' in X_a:\n",
    "    del X_a['Gender'] \n",
    "    \n",
    "if 'customer_type' in X_a:    \n",
    "    del X_a['customer_type'] \n",
    "\n",
    "if 'age' in X_a:    \n",
    "    del X_a['age'] \n",
    "    \n",
    "if 'type_of_travel' in X_a:    \n",
    "    del X_a['type_of_travel'] \n",
    "    \n",
    "if 'customer_class' in X_a:    \n",
    "    del X_a['customer_class'] \n",
    "    \n",
    "if 'flight_distance' in X_a:    \n",
    "    del X_a['flight_distance'] \n",
    "\n",
    "if 'departure_delay_in_minutes' in X_a:    \n",
    "    del X_a['departure_delay_in_minutes'] \n",
    "    \n",
    "if 'arrival_delay_in_minutes' in X_a:    \n",
    "    del X_a['arrival_delay_in_minutes'] \n",
    "\n",
    "airline_df_dummy_satisfied = pd.concat((X_a,y_a),axis=1)\n"
   ]
  },
  {
   "cell_type": "code",
   "execution_count": 2,
   "id": "c2279452",
   "metadata": {},
   "outputs": [
    {
     "data": {
      "text/html": [
       "<div>\n",
       "<style scoped>\n",
       "    .dataframe tbody tr th:only-of-type {\n",
       "        vertical-align: middle;\n",
       "    }\n",
       "\n",
       "    .dataframe tbody tr th {\n",
       "        vertical-align: top;\n",
       "    }\n",
       "\n",
       "    .dataframe thead th {\n",
       "        text-align: right;\n",
       "    }\n",
       "</style>\n",
       "<table border=\"1\" class=\"dataframe\">\n",
       "  <thead>\n",
       "    <tr style=\"text-align: right;\">\n",
       "      <th></th>\n",
       "      <th>inflight_wifi_service</th>\n",
       "      <th>departure_arrival_time_convenient</th>\n",
       "      <th>ease_of_online_booking</th>\n",
       "      <th>gate_location</th>\n",
       "      <th>food_and_drink</th>\n",
       "      <th>online_boarding</th>\n",
       "      <th>seat_comfort</th>\n",
       "      <th>inflight_entertainment</th>\n",
       "      <th>onboard_service</th>\n",
       "      <th>leg_room_service</th>\n",
       "      <th>...</th>\n",
       "      <th>departure_delay_range_0</th>\n",
       "      <th>departure_delay_range_1</th>\n",
       "      <th>departure_delay_range_2</th>\n",
       "      <th>arrival_delay_range_0</th>\n",
       "      <th>arrival_delay_range_1</th>\n",
       "      <th>arrival_delay_range_2</th>\n",
       "      <th>age_range_0</th>\n",
       "      <th>age_range_1</th>\n",
       "      <th>age_range_2</th>\n",
       "      <th>satisfaction</th>\n",
       "    </tr>\n",
       "  </thead>\n",
       "  <tbody>\n",
       "    <tr>\n",
       "      <th>0</th>\n",
       "      <td>3</td>\n",
       "      <td>4</td>\n",
       "      <td>3</td>\n",
       "      <td>1</td>\n",
       "      <td>5</td>\n",
       "      <td>3</td>\n",
       "      <td>5</td>\n",
       "      <td>5</td>\n",
       "      <td>4</td>\n",
       "      <td>3</td>\n",
       "      <td>...</td>\n",
       "      <td>1</td>\n",
       "      <td>0</td>\n",
       "      <td>0</td>\n",
       "      <td>1</td>\n",
       "      <td>0</td>\n",
       "      <td>0</td>\n",
       "      <td>1</td>\n",
       "      <td>0</td>\n",
       "      <td>0</td>\n",
       "      <td>0</td>\n",
       "    </tr>\n",
       "    <tr>\n",
       "      <th>1</th>\n",
       "      <td>3</td>\n",
       "      <td>2</td>\n",
       "      <td>3</td>\n",
       "      <td>3</td>\n",
       "      <td>1</td>\n",
       "      <td>3</td>\n",
       "      <td>1</td>\n",
       "      <td>1</td>\n",
       "      <td>1</td>\n",
       "      <td>5</td>\n",
       "      <td>...</td>\n",
       "      <td>1</td>\n",
       "      <td>0</td>\n",
       "      <td>0</td>\n",
       "      <td>1</td>\n",
       "      <td>0</td>\n",
       "      <td>0</td>\n",
       "      <td>0</td>\n",
       "      <td>1</td>\n",
       "      <td>0</td>\n",
       "      <td>0</td>\n",
       "    </tr>\n",
       "    <tr>\n",
       "      <th>2</th>\n",
       "      <td>2</td>\n",
       "      <td>2</td>\n",
       "      <td>2</td>\n",
       "      <td>2</td>\n",
       "      <td>5</td>\n",
       "      <td>5</td>\n",
       "      <td>5</td>\n",
       "      <td>5</td>\n",
       "      <td>4</td>\n",
       "      <td>3</td>\n",
       "      <td>...</td>\n",
       "      <td>1</td>\n",
       "      <td>0</td>\n",
       "      <td>0</td>\n",
       "      <td>1</td>\n",
       "      <td>0</td>\n",
       "      <td>0</td>\n",
       "      <td>0</td>\n",
       "      <td>1</td>\n",
       "      <td>0</td>\n",
       "      <td>1</td>\n",
       "    </tr>\n",
       "    <tr>\n",
       "      <th>3</th>\n",
       "      <td>2</td>\n",
       "      <td>5</td>\n",
       "      <td>5</td>\n",
       "      <td>5</td>\n",
       "      <td>2</td>\n",
       "      <td>2</td>\n",
       "      <td>2</td>\n",
       "      <td>2</td>\n",
       "      <td>2</td>\n",
       "      <td>5</td>\n",
       "      <td>...</td>\n",
       "      <td>1</td>\n",
       "      <td>0</td>\n",
       "      <td>0</td>\n",
       "      <td>1</td>\n",
       "      <td>0</td>\n",
       "      <td>0</td>\n",
       "      <td>0</td>\n",
       "      <td>1</td>\n",
       "      <td>0</td>\n",
       "      <td>0</td>\n",
       "    </tr>\n",
       "    <tr>\n",
       "      <th>4</th>\n",
       "      <td>3</td>\n",
       "      <td>3</td>\n",
       "      <td>3</td>\n",
       "      <td>3</td>\n",
       "      <td>4</td>\n",
       "      <td>5</td>\n",
       "      <td>5</td>\n",
       "      <td>3</td>\n",
       "      <td>3</td>\n",
       "      <td>4</td>\n",
       "      <td>...</td>\n",
       "      <td>1</td>\n",
       "      <td>0</td>\n",
       "      <td>0</td>\n",
       "      <td>1</td>\n",
       "      <td>0</td>\n",
       "      <td>0</td>\n",
       "      <td>0</td>\n",
       "      <td>1</td>\n",
       "      <td>0</td>\n",
       "      <td>1</td>\n",
       "    </tr>\n",
       "  </tbody>\n",
       "</table>\n",
       "<p>5 rows × 36 columns</p>\n",
       "</div>"
      ],
      "text/plain": [
       "   inflight_wifi_service  departure_arrival_time_convenient  \\\n",
       "0                      3                                  4   \n",
       "1                      3                                  2   \n",
       "2                      2                                  2   \n",
       "3                      2                                  5   \n",
       "4                      3                                  3   \n",
       "\n",
       "   ease_of_online_booking  gate_location  food_and_drink  online_boarding  \\\n",
       "0                       3              1               5                3   \n",
       "1                       3              3               1                3   \n",
       "2                       2              2               5                5   \n",
       "3                       5              5               2                2   \n",
       "4                       3              3               4                5   \n",
       "\n",
       "   seat_comfort  inflight_entertainment  onboard_service  leg_room_service  \\\n",
       "0             5                       5                4                 3   \n",
       "1             1                       1                1                 5   \n",
       "2             5                       5                4                 3   \n",
       "3             2                       2                2                 5   \n",
       "4             5                       3                3                 4   \n",
       "\n",
       "   ...  departure_delay_range_0  departure_delay_range_1  \\\n",
       "0  ...                        1                        0   \n",
       "1  ...                        1                        0   \n",
       "2  ...                        1                        0   \n",
       "3  ...                        1                        0   \n",
       "4  ...                        1                        0   \n",
       "\n",
       "   departure_delay_range_2  arrival_delay_range_0  arrival_delay_range_1  \\\n",
       "0                        0                      1                      0   \n",
       "1                        0                      1                      0   \n",
       "2                        0                      1                      0   \n",
       "3                        0                      1                      0   \n",
       "4                        0                      1                      0   \n",
       "\n",
       "   arrival_delay_range_2  age_range_0  age_range_1  age_range_2  satisfaction  \n",
       "0                      0            1            0            0             0  \n",
       "1                      0            0            1            0             0  \n",
       "2                      0            0            1            0             1  \n",
       "3                      0            0            1            0             0  \n",
       "4                      0            0            1            0             1  \n",
       "\n",
       "[5 rows x 36 columns]"
      ]
     },
     "execution_count": 2,
     "metadata": {},
     "output_type": "execute_result"
    }
   ],
   "source": [
    "X_a = X_a.values\n",
    "y_a= y_a.values\n",
    "airline_df_dummy_satisfied.head()"
   ]
  },
  {
   "cell_type": "markdown",
   "id": "df5e9b87",
   "metadata": {},
   "source": [
    "### B. Response: Cleanliness variable split and expalanatory variables creation\n",
    "\n",
    "The response variable in this case is Cleanliness, is split to 0 and 1. Since original Cleanliness is an ordinal variable with 0 (lower) and 5 (highest) rating. Ordinal range 0-2 are considered in unclean - assigned value '0' and Range 3-5 are considered as clean - assigned value '1'.\n",
    "The continuous variables 'flight_distance', 'departure_delay_in_minutes', arrival_delay_in_minutes and 'age' are segmented using pandas cut feature as shown below.\n",
    "These categorical features are further converted by using pandas get_dummy function (one hot encoding) to use in the final prediction of airline customer cleanliness response. Because model algorithm would be more likely to cluster the attribute with 3s and 2s together than the attribute with 3s and 1s together. In contrast, if we treat these numbers like categorical data, then we treat each one as a separate category that is no more or less similar to any of the other categories. Thus, the likelihood of clustering attribute with 3s with 2s is the same as clustering 3s with 1s, and that approach is more reasonable.\n",
    "The original attributes that got transformed are dropped from the original 'airline_df' dataframe to form 'X_b' dataframe. The response dataframe 'y_b' has the transformed cleanliness data.\n",
    "Both 'X_b' and 'y_b' are combined into 'airline_df_dummy_clean' dataframe that is used for prediction in this scenario B.\n"
   ]
  },
  {
   "cell_type": "code",
   "execution_count": 3,
   "id": "8e2e511e",
   "metadata": {},
   "outputs": [],
   "source": [
    "airline_df['clean'] = pd.cut(airline_df.cleanliness,[-1,2,6],2,labels=[0,1])\n",
    "airline_df['clean'] = airline_df['clean'].astype(int)\n",
    "\n",
    "X_b = airline_df.drop(['clean', 'cleanliness'], axis=1).copy()\n",
    "\n",
    "\n",
    "y_b= airline_df['clean'].copy()\n",
    "\n",
    "    \n",
    "X_b = pd.get_dummies(X_b, columns=['Gender', 'customer_type','type_of_travel','customer_class',\n",
    "                                       'flight_range','age_range','departure_delay_range','arrival_delay_range',\n",
    "                                   'satisfaction'])\n",
    "\n",
    "if 'Gender' in X_b:\n",
    "    del X_a['Gender'] \n",
    "    \n",
    "if 'customer_type' in X_b:    \n",
    "    del X_b['customer_type'] \n",
    "\n",
    "if 'age' in X_b:    \n",
    "    del X_b['age'] \n",
    "    \n",
    "if 'type_of_travel' in X_b:    \n",
    "    del X_b['type_of_travel'] \n",
    "    \n",
    "if 'customer_class' in X_b:    \n",
    "    del X_b['customer_class'] \n",
    "    \n",
    "if 'flight_distance' in X_b:    \n",
    "    del X_b['flight_distance'] \n",
    "\n",
    "if 'departure_delay_in_minutes' in X_b:    \n",
    "    del X_b['departure_delay_in_minutes'] \n",
    "    \n",
    "if 'arrival_delay_in_minutes' in X_b:    \n",
    "    del X_b['arrival_delay_in_minutes'] \n",
    "\n",
    "if 'satisfaction' in X_b:    \n",
    "    del X_b['satisfaction']\n",
    "\n",
    "airline_df_dummy_clean = pd.concat((X_b,y_b),axis=1)\n"
   ]
  },
  {
   "cell_type": "code",
   "execution_count": 4,
   "id": "2709a02c",
   "metadata": {
    "scrolled": true
   },
   "outputs": [
    {
     "data": {
      "text/html": [
       "<div>\n",
       "<style scoped>\n",
       "    .dataframe tbody tr th:only-of-type {\n",
       "        vertical-align: middle;\n",
       "    }\n",
       "\n",
       "    .dataframe tbody tr th {\n",
       "        vertical-align: top;\n",
       "    }\n",
       "\n",
       "    .dataframe thead th {\n",
       "        text-align: right;\n",
       "    }\n",
       "</style>\n",
       "<table border=\"1\" class=\"dataframe\">\n",
       "  <thead>\n",
       "    <tr style=\"text-align: right;\">\n",
       "      <th></th>\n",
       "      <th>inflight_wifi_service</th>\n",
       "      <th>departure_arrival_time_convenient</th>\n",
       "      <th>ease_of_online_booking</th>\n",
       "      <th>gate_location</th>\n",
       "      <th>food_and_drink</th>\n",
       "      <th>online_boarding</th>\n",
       "      <th>seat_comfort</th>\n",
       "      <th>inflight_entertainment</th>\n",
       "      <th>onboard_service</th>\n",
       "      <th>leg_room_service</th>\n",
       "      <th>...</th>\n",
       "      <th>age_range_2</th>\n",
       "      <th>departure_delay_range_0</th>\n",
       "      <th>departure_delay_range_1</th>\n",
       "      <th>departure_delay_range_2</th>\n",
       "      <th>arrival_delay_range_0</th>\n",
       "      <th>arrival_delay_range_1</th>\n",
       "      <th>arrival_delay_range_2</th>\n",
       "      <th>satisfaction_0</th>\n",
       "      <th>satisfaction_1</th>\n",
       "      <th>clean</th>\n",
       "    </tr>\n",
       "  </thead>\n",
       "  <tbody>\n",
       "    <tr>\n",
       "      <th>0</th>\n",
       "      <td>3</td>\n",
       "      <td>4</td>\n",
       "      <td>3</td>\n",
       "      <td>1</td>\n",
       "      <td>5</td>\n",
       "      <td>3</td>\n",
       "      <td>5</td>\n",
       "      <td>5</td>\n",
       "      <td>4</td>\n",
       "      <td>3</td>\n",
       "      <td>...</td>\n",
       "      <td>0</td>\n",
       "      <td>1</td>\n",
       "      <td>0</td>\n",
       "      <td>0</td>\n",
       "      <td>1</td>\n",
       "      <td>0</td>\n",
       "      <td>0</td>\n",
       "      <td>1</td>\n",
       "      <td>0</td>\n",
       "      <td>1</td>\n",
       "    </tr>\n",
       "    <tr>\n",
       "      <th>1</th>\n",
       "      <td>3</td>\n",
       "      <td>2</td>\n",
       "      <td>3</td>\n",
       "      <td>3</td>\n",
       "      <td>1</td>\n",
       "      <td>3</td>\n",
       "      <td>1</td>\n",
       "      <td>1</td>\n",
       "      <td>1</td>\n",
       "      <td>5</td>\n",
       "      <td>...</td>\n",
       "      <td>0</td>\n",
       "      <td>1</td>\n",
       "      <td>0</td>\n",
       "      <td>0</td>\n",
       "      <td>1</td>\n",
       "      <td>0</td>\n",
       "      <td>0</td>\n",
       "      <td>1</td>\n",
       "      <td>0</td>\n",
       "      <td>0</td>\n",
       "    </tr>\n",
       "    <tr>\n",
       "      <th>2</th>\n",
       "      <td>2</td>\n",
       "      <td>2</td>\n",
       "      <td>2</td>\n",
       "      <td>2</td>\n",
       "      <td>5</td>\n",
       "      <td>5</td>\n",
       "      <td>5</td>\n",
       "      <td>5</td>\n",
       "      <td>4</td>\n",
       "      <td>3</td>\n",
       "      <td>...</td>\n",
       "      <td>0</td>\n",
       "      <td>1</td>\n",
       "      <td>0</td>\n",
       "      <td>0</td>\n",
       "      <td>1</td>\n",
       "      <td>0</td>\n",
       "      <td>0</td>\n",
       "      <td>0</td>\n",
       "      <td>1</td>\n",
       "      <td>1</td>\n",
       "    </tr>\n",
       "    <tr>\n",
       "      <th>3</th>\n",
       "      <td>2</td>\n",
       "      <td>5</td>\n",
       "      <td>5</td>\n",
       "      <td>5</td>\n",
       "      <td>2</td>\n",
       "      <td>2</td>\n",
       "      <td>2</td>\n",
       "      <td>2</td>\n",
       "      <td>2</td>\n",
       "      <td>5</td>\n",
       "      <td>...</td>\n",
       "      <td>0</td>\n",
       "      <td>1</td>\n",
       "      <td>0</td>\n",
       "      <td>0</td>\n",
       "      <td>1</td>\n",
       "      <td>0</td>\n",
       "      <td>0</td>\n",
       "      <td>1</td>\n",
       "      <td>0</td>\n",
       "      <td>0</td>\n",
       "    </tr>\n",
       "    <tr>\n",
       "      <th>4</th>\n",
       "      <td>3</td>\n",
       "      <td>3</td>\n",
       "      <td>3</td>\n",
       "      <td>3</td>\n",
       "      <td>4</td>\n",
       "      <td>5</td>\n",
       "      <td>5</td>\n",
       "      <td>3</td>\n",
       "      <td>3</td>\n",
       "      <td>4</td>\n",
       "      <td>...</td>\n",
       "      <td>0</td>\n",
       "      <td>1</td>\n",
       "      <td>0</td>\n",
       "      <td>0</td>\n",
       "      <td>1</td>\n",
       "      <td>0</td>\n",
       "      <td>0</td>\n",
       "      <td>0</td>\n",
       "      <td>1</td>\n",
       "      <td>1</td>\n",
       "    </tr>\n",
       "  </tbody>\n",
       "</table>\n",
       "<p>5 rows × 37 columns</p>\n",
       "</div>"
      ],
      "text/plain": [
       "   inflight_wifi_service  departure_arrival_time_convenient  \\\n",
       "0                      3                                  4   \n",
       "1                      3                                  2   \n",
       "2                      2                                  2   \n",
       "3                      2                                  5   \n",
       "4                      3                                  3   \n",
       "\n",
       "   ease_of_online_booking  gate_location  food_and_drink  online_boarding  \\\n",
       "0                       3              1               5                3   \n",
       "1                       3              3               1                3   \n",
       "2                       2              2               5                5   \n",
       "3                       5              5               2                2   \n",
       "4                       3              3               4                5   \n",
       "\n",
       "   seat_comfort  inflight_entertainment  onboard_service  leg_room_service  \\\n",
       "0             5                       5                4                 3   \n",
       "1             1                       1                1                 5   \n",
       "2             5                       5                4                 3   \n",
       "3             2                       2                2                 5   \n",
       "4             5                       3                3                 4   \n",
       "\n",
       "   ...  age_range_2  departure_delay_range_0  departure_delay_range_1  \\\n",
       "0  ...            0                        1                        0   \n",
       "1  ...            0                        1                        0   \n",
       "2  ...            0                        1                        0   \n",
       "3  ...            0                        1                        0   \n",
       "4  ...            0                        1                        0   \n",
       "\n",
       "   departure_delay_range_2  arrival_delay_range_0  arrival_delay_range_1  \\\n",
       "0                        0                      1                      0   \n",
       "1                        0                      1                      0   \n",
       "2                        0                      1                      0   \n",
       "3                        0                      1                      0   \n",
       "4                        0                      1                      0   \n",
       "\n",
       "   arrival_delay_range_2  satisfaction_0  satisfaction_1  clean  \n",
       "0                      0               1               0      1  \n",
       "1                      0               1               0      0  \n",
       "2                      0               0               1      1  \n",
       "3                      0               1               0      0  \n",
       "4                      0               0               1      1  \n",
       "\n",
       "[5 rows x 37 columns]"
      ]
     },
     "execution_count": 4,
     "metadata": {},
     "output_type": "execute_result"
    }
   ],
   "source": [
    "X_b = X_b.values\n",
    "y_b= y_b.values\n",
    "airline_df_dummy_clean.head()"
   ]
  },
  {
   "cell_type": "markdown",
   "id": "b02409b0",
   "metadata": {},
   "source": [
    "##### PCA for Satisfaction"
   ]
  },
  {
   "cell_type": "code",
   "execution_count": 5,
   "id": "1bf7917d",
   "metadata": {
    "scrolled": false
   },
   "outputs": [
    {
     "data": {
      "image/png": "[encoded data removed]",
      "text/plain": [
       "<Figure size 576x576 with 1 Axes>"
      ]
     },
     "metadata": {
      "needs_background": "light"
     },
     "output_type": "display_data"
    },
    {
     "name": "stdout",
     "output_type": "stream",
     "text": [
      "Proportion of Variance Explained using Satisfaction dataframe: \n",
      " [1.35614458e-01 1.00538725e-01 8.88834963e-02 6.75624750e-02\n",
      " 6.59274616e-02 6.26929137e-02 5.62561505e-02 5.37767648e-02\n",
      " 4.77785114e-02 4.54748178e-02 3.35461835e-02 3.03326072e-02\n",
      " 2.84089249e-02 2.72161695e-02 2.33228692e-02 1.98003448e-02\n",
      " 1.58182963e-02 1.39169255e-02 1.35932383e-02 1.32177064e-02\n",
      " 1.24715902e-02 1.04606228e-02 9.02991324e-03 8.37031544e-03\n",
      " 7.05457197e-03 5.12491851e-03 3.80902767e-03 2.67452361e-32\n",
      " 8.68736757e-33 4.34707992e-33 3.15527560e-33 1.95274444e-33\n",
      " 7.69488588e-34 6.64359253e-34 2.32669433e-34]\n",
      "\n",
      "Cumulative Prop. Variance Explained using Satisfaction dataframe: \n",
      "            0\n",
      "0   0.135614\n",
      "1   0.236153\n",
      "2   0.325037\n",
      "3   0.392599\n",
      "4   0.458527\n",
      "5   0.521220\n",
      "6   0.577476\n",
      "7   0.631252\n",
      "8   0.679031\n",
      "9   0.724506\n",
      "10  0.758052\n",
      "11  0.788385\n",
      "12  0.816793\n",
      "13  0.844010\n",
      "14  0.867333\n",
      "15  0.887133\n",
      "16  0.902951\n",
      "17  0.916868\n",
      "18  0.930461\n",
      "19  0.943679\n",
      "20  0.956151\n",
      "21  0.966611\n",
      "22  0.975641\n",
      "23  0.984011\n",
      "24  0.991066\n",
      "25  0.996191\n",
      "26  1.000000\n",
      "27  1.000000\n",
      "28  1.000000\n",
      "29  1.000000\n",
      "30  1.000000\n",
      "31  1.000000\n",
      "32  1.000000\n",
      "33  1.000000\n",
      "34  1.000000\n"
     ]
    }
   ],
   "source": [
    "from sklearn.decomposition import PCA\n",
    "from sklearn.preprocessing import StandardScaler\n",
    "import matplotlib.pyplot as plt\n",
    "\n",
    "scaler = StandardScaler()\n",
    "\n",
    "# Normalize the airline_df_dummy_clean data frame for PCA.\n",
    "airline_df_dummy_satisfied_scaled = airline_df_dummy_satisfied.drop(['satisfaction'],axis=1).copy()\n",
    "\n",
    "airline_df_dummy_satisfied_scaled=pd.DataFrame(scaler.fit_transform(airline_df_dummy_satisfied_scaled), \n",
    "                                               columns=airline_df_dummy_satisfied_scaled.columns)\n",
    "#airline_df_dummy_clean_scaled.head()\n",
    "\n",
    "pca_satisfaction = PCA(n_components=len(airline_df_dummy_satisfied_scaled.columns), svd_solver = 'auto')\n",
    "Principal_components_satisfaction=pca_satisfaction.fit_transform(airline_df_dummy_satisfied_scaled)\n",
    "\n",
    "\n",
    "pc_val_satisfaction = np.arange(pca_satisfaction.n_components) + 1\n",
    "plt.figure(figsize=(8,8))\n",
    "\n",
    "plt.plot(pc_val_satisfaction, pca_satisfaction.explained_variance_ratio_.cumsum(), 'ro-', linewidth=2)\n",
    "plt.title('Scree Plot of PCA Satisfaction')\n",
    "plt.xlabel('Principal Component')\n",
    "plt.ylabel('Proportion of Variance Explained')\n",
    "plt.axhline(y=0.98, color='b', linestyle='-')\n",
    "plt.axvline(x=23, color='b', linestyle='-')\n",
    "plt.show()\n",
    "print (\"Proportion of Variance Explained using Satisfaction dataframe: \\n\", pca_satisfaction.explained_variance_ratio_)  \n",
    "    \n",
    "out_sum_ord = np.cumsum(pca_satisfaction.explained_variance_ratio_)  \n",
    "out_sum_ord = pd.DataFrame(out_sum_ord)\n",
    "print (\"\\nCumulative Prop. Variance Explained using Satisfaction dataframe: \\n\",out_sum_ord)\n"
   ]
  },
  {
   "cell_type": "markdown",
   "id": "4c10beae",
   "metadata": {},
   "source": [
    "Based on the PCA for 'airline_df_dummy_satisfied' dataframe used for cleanliness prediction, approx 98% of the variance can be explained by 23 principal components."
   ]
  },
  {
   "cell_type": "markdown",
   "id": "e2a242b1",
   "metadata": {},
   "source": [
    "##### PCA for Cleanliness"
   ]
  },
  {
   "cell_type": "code",
   "execution_count": 6,
   "id": "da1b33ad",
   "metadata": {
    "scrolled": false
   },
   "outputs": [
    {
     "data": {
      "image/png": "[encoded data removed]",
      "text/plain": [
       "<Figure size 576x576 with 1 Axes>"
      ]
     },
     "metadata": {
      "needs_background": "light"
     },
     "output_type": "display_data"
    },
    {
     "name": "stdout",
     "output_type": "stream",
     "text": [
      "Proportion of Variance Explained using Cleanliness dataframe: \n",
      " [1.57880624e-01 9.77411412e-02 8.43091077e-02 6.49599281e-02\n",
      " 6.42508678e-02 5.61201623e-02 5.23536024e-02 4.99192934e-02\n",
      " 4.60198054e-02 4.43488559e-02 3.26146415e-02 3.19582976e-02\n",
      " 2.89809438e-02 2.68610085e-02 2.30859431e-02 1.96708330e-02\n",
      " 1.88965879e-02 1.35952131e-02 1.35230421e-02 1.32113742e-02\n",
      " 1.28024394e-02 1.20541144e-02 1.01675345e-02 8.61180999e-03\n",
      " 6.65955309e-03 5.69988968e-03 3.70338628e-03 3.11364629e-32\n",
      " 7.04597910e-33 4.78402055e-33 4.01808922e-33 2.94543046e-33\n",
      " 1.93198709e-33 1.27241895e-33 4.37055428e-34 1.19685897e-34]\n",
      "\n",
      "Cumulative Prop. Variance Explained using Cleanliness dataframe: \n",
      "            0\n",
      "0   0.157881\n",
      "1   0.255622\n",
      "2   0.339931\n",
      "3   0.404891\n",
      "4   0.469142\n",
      "5   0.525262\n",
      "6   0.577615\n",
      "7   0.627535\n",
      "8   0.673555\n",
      "9   0.717903\n",
      "10  0.750518\n",
      "11  0.782476\n",
      "12  0.811457\n",
      "13  0.838318\n",
      "14  0.861404\n",
      "15  0.881075\n",
      "16  0.899972\n",
      "17  0.913567\n",
      "18  0.927090\n",
      "19  0.940301\n",
      "20  0.953104\n",
      "21  0.965158\n",
      "22  0.975325\n",
      "23  0.983937\n",
      "24  0.990597\n",
      "25  0.996297\n",
      "26  1.000000\n",
      "27  1.000000\n",
      "28  1.000000\n",
      "29  1.000000\n",
      "30  1.000000\n",
      "31  1.000000\n",
      "32  1.000000\n",
      "33  1.000000\n",
      "34  1.000000\n",
      "35  1.000000\n"
     ]
    }
   ],
   "source": [
    "# Normalize the airline_df_dummy_clean data frame for PCA.\n",
    "airline_df_dummy_clean_scaled = airline_df_dummy_clean.drop(['clean'],axis=1).copy()\n",
    "\n",
    "airline_df_dummy_clean_scaled=pd.DataFrame(scaler.fit_transform(airline_df_dummy_clean_scaled), \n",
    "                                           columns=airline_df_dummy_clean_scaled.columns)\n",
    "#airline_df_dummy_clean_scaled.head()\n",
    "\n",
    "pca_clean = PCA(n_components=len(airline_df_dummy_clean_scaled.columns), svd_solver = 'auto')\n",
    "Principal_components_clean=pca_clean.fit_transform(airline_df_dummy_clean_scaled)\n",
    "\n",
    "pc_val_clean = np.arange(pca_clean.n_components) + 1\n",
    "plt.figure(figsize=(8,8))\n",
    "\n",
    "plt.plot(pc_val_clean, pca_clean.explained_variance_ratio_.cumsum(), 'ro-', linewidth=2)\n",
    "plt.title('Scree Plot of PCA Cleanliness')\n",
    "plt.xlabel('Principal Component')\n",
    "plt.ylabel('Proportion of Variance Explained')\n",
    "plt.axhline(y=0.98, color='b', linestyle='-')\n",
    "plt.axvline(x=23, color='b', linestyle='-')\n",
    "plt.show()\n",
    "print (\"Proportion of Variance Explained using Cleanliness dataframe: \\n\", pca_clean.explained_variance_ratio_)  \n",
    "    \n",
    "out_sum_ord = np.cumsum(pca_clean.explained_variance_ratio_)\n",
    "out_sum_ord = pd.DataFrame(out_sum_ord)\n",
    "print (\"\\nCumulative Prop. Variance Explained using Cleanliness dataframe: \\n\", out_sum_ord)"
   ]
  },
  {
   "cell_type": "markdown",
   "id": "0cd544ab",
   "metadata": {},
   "source": [
    "Based on the PCA for 'airline_df_dummy_clean' dataframe used for cleanliness prediction, approx 98% of the variance can be explained by 23 principal components.\n",
    "\n",
    "\n",
    "Therefore, from the above PCA analyses 23 principal components are used for both classifications.\n",
    "______________"
   ]
  },
  {
   "cell_type": "markdown",
   "id": "be93c165",
   "metadata": {},
   "source": [
    "### Part 2\n",
    "\n",
    "We removed 'Gender', 'customer type', 'age', 'Type of travel', 'customer class', as these attributes have been converted by one-hot encoding method. 'flight distance', 'departure delay in minutes' and 'arrival delay in minutes' were also removed as these original attributes were converted to categorical variables\n",
    "\n",
    "Both \n",
    "- Scenario A: Prediction of Satisfaction Variable: 'airline_df_dummy_satisfied' has 36 attributes.\n",
    "   \n",
    "   \n",
    "- Scenario B: Prediction of Cleanliness Variable: 'airline_df_dummy_clean' has 37 attributes.\n"
   ]
  },
  {
   "cell_type": "code",
   "execution_count": 7,
   "id": "de55e2e1",
   "metadata": {},
   "outputs": [
    {
     "name": "stdout",
     "output_type": "stream",
     "text": [
      "<class 'pandas.core.frame.DataFrame'>\n",
      "Int64Index: 129487 entries, 0 to 129879\n",
      "Data columns (total 36 columns):\n",
      " #   Column                             Non-Null Count   Dtype\n",
      "---  ------                             --------------   -----\n",
      " 0   inflight_wifi_service              129487 non-null  int64\n",
      " 1   departure_arrival_time_convenient  129487 non-null  int64\n",
      " 2   ease_of_online_booking             129487 non-null  int64\n",
      " 3   gate_location                      129487 non-null  int64\n",
      " 4   food_and_drink                     129487 non-null  int64\n",
      " 5   online_boarding                    129487 non-null  int64\n",
      " 6   seat_comfort                       129487 non-null  int64\n",
      " 7   inflight_entertainment             129487 non-null  int64\n",
      " 8   onboard_service                    129487 non-null  int64\n",
      " 9   leg_room_service                   129487 non-null  int64\n",
      " 10  baggage_handling                   129487 non-null  int64\n",
      " 11  checkin_service                    129487 non-null  int64\n",
      " 12  inflight_service                   129487 non-null  int64\n",
      " 13  cleanliness                        129487 non-null  int64\n",
      " 14  Gender_Female                      129487 non-null  uint8\n",
      " 15  Gender_Male                        129487 non-null  uint8\n",
      " 16  customer_type_Loyal Customer       129487 non-null  uint8\n",
      " 17  customer_type_disloyal Customer    129487 non-null  uint8\n",
      " 18  type_of_travel_Business travel     129487 non-null  uint8\n",
      " 19  type_of_travel_Personal Travel     129487 non-null  uint8\n",
      " 20  customer_class_Business            129487 non-null  uint8\n",
      " 21  customer_class_Eco                 129487 non-null  uint8\n",
      " 22  customer_class_Eco Plus            129487 non-null  uint8\n",
      " 23  flight_range_0                     129487 non-null  uint8\n",
      " 24  flight_range_1                     129487 non-null  uint8\n",
      " 25  flight_range_2                     129487 non-null  uint8\n",
      " 26  departure_delay_range_0            129487 non-null  uint8\n",
      " 27  departure_delay_range_1            129487 non-null  uint8\n",
      " 28  departure_delay_range_2            129487 non-null  uint8\n",
      " 29  arrival_delay_range_0              129487 non-null  uint8\n",
      " 30  arrival_delay_range_1              129487 non-null  uint8\n",
      " 31  arrival_delay_range_2              129487 non-null  uint8\n",
      " 32  age_range_0                        129487 non-null  uint8\n",
      " 33  age_range_1                        129487 non-null  uint8\n",
      " 34  age_range_2                        129487 non-null  uint8\n",
      " 35  satisfaction                       129487 non-null  int64\n",
      "dtypes: int64(15), uint8(21)\n",
      "memory usage: 18.4 MB\n"
     ]
    }
   ],
   "source": [
    "airline_df_dummy_satisfied.info()"
   ]
  },
  {
   "cell_type": "markdown",
   "id": "59eb4f8d",
   "metadata": {},
   "source": [
    "_______________________________________________________________"
   ]
  },
  {
   "cell_type": "code",
   "execution_count": 8,
   "id": "5b861fe5",
   "metadata": {
    "scrolled": false
   },
   "outputs": [
    {
     "name": "stdout",
     "output_type": "stream",
     "text": [
      "<class 'pandas.core.frame.DataFrame'>\n",
      "Int64Index: 129487 entries, 0 to 129879\n",
      "Data columns (total 37 columns):\n",
      " #   Column                             Non-Null Count   Dtype\n",
      "---  ------                             --------------   -----\n",
      " 0   inflight_wifi_service              129487 non-null  int64\n",
      " 1   departure_arrival_time_convenient  129487 non-null  int64\n",
      " 2   ease_of_online_booking             129487 non-null  int64\n",
      " 3   gate_location                      129487 non-null  int64\n",
      " 4   food_and_drink                     129487 non-null  int64\n",
      " 5   online_boarding                    129487 non-null  int64\n",
      " 6   seat_comfort                       129487 non-null  int64\n",
      " 7   inflight_entertainment             129487 non-null  int64\n",
      " 8   onboard_service                    129487 non-null  int64\n",
      " 9   leg_room_service                   129487 non-null  int64\n",
      " 10  baggage_handling                   129487 non-null  int64\n",
      " 11  checkin_service                    129487 non-null  int64\n",
      " 12  inflight_service                   129487 non-null  int64\n",
      " 13  Gender_Female                      129487 non-null  uint8\n",
      " 14  Gender_Male                        129487 non-null  uint8\n",
      " 15  customer_type_Loyal Customer       129487 non-null  uint8\n",
      " 16  customer_type_disloyal Customer    129487 non-null  uint8\n",
      " 17  type_of_travel_Business travel     129487 non-null  uint8\n",
      " 18  type_of_travel_Personal Travel     129487 non-null  uint8\n",
      " 19  customer_class_Business            129487 non-null  uint8\n",
      " 20  customer_class_Eco                 129487 non-null  uint8\n",
      " 21  customer_class_Eco Plus            129487 non-null  uint8\n",
      " 22  flight_range_0                     129487 non-null  uint8\n",
      " 23  flight_range_1                     129487 non-null  uint8\n",
      " 24  flight_range_2                     129487 non-null  uint8\n",
      " 25  age_range_0                        129487 non-null  uint8\n",
      " 26  age_range_1                        129487 non-null  uint8\n",
      " 27  age_range_2                        129487 non-null  uint8\n",
      " 28  departure_delay_range_0            129487 non-null  uint8\n",
      " 29  departure_delay_range_1            129487 non-null  uint8\n",
      " 30  departure_delay_range_2            129487 non-null  uint8\n",
      " 31  arrival_delay_range_0              129487 non-null  uint8\n",
      " 32  arrival_delay_range_1              129487 non-null  uint8\n",
      " 33  arrival_delay_range_2              129487 non-null  uint8\n",
      " 34  satisfaction_0                     129487 non-null  uint8\n",
      " 35  satisfaction_1                     129487 non-null  uint8\n",
      " 36  clean                              129487 non-null  int32\n",
      "dtypes: int32(1), int64(13), uint8(23)\n",
      "memory usage: 17.2 MB\n"
     ]
    }
   ],
   "source": [
    "airline_df_dummy_clean.info()"
   ]
  },
  {
   "cell_type": "markdown",
   "id": "636079c7",
   "metadata": {},
   "source": [
    "_______________________________________________________________"
   ]
  },
  {
   "cell_type": "markdown",
   "id": "604f34d9",
   "metadata": {},
   "source": [
    "## Modeling and Evaluation 1\n",
    "\n",
    "### Evaluation Metrics\n",
    "As we chose to predict the Satisfaction of airlines customers and to predict cleanliness of airplanes from the data, we believe the evaluation metrics described below are significant for both the classifications:\n",
    "\n",
    "- Accuracy\n",
    "\n",
    "The accuracy is a basic model evaluation metric to measure the percentage of total true negative and true positive, but it's only a good evaluation metric for balanced data.\n",
    "\n",
    "- Precision\n",
    "\n",
    "Precision equals to True positive divided by Total predicted positive. So precision is a good measure to determine, when the costs of False Positive is high.\n",
    "\n",
    "- Recall\n",
    "\n",
    "Recall equals to True positive divided by Total actual positive. So recall actually calculates how many of the Actual Positives our model capture through labeling it as Positive (True Positive). Recall shall be the model metric we use to select our best model when there is a high cost associated with False Negative.\n",
    "\n",
    "- F1 score\n",
    "\n",
    "F1 score equals to 2 multiply precision times recall divided by the sum of precision and recall. So F1 Score might be a better measure to use if we need to seek a balance between Precision and Recall AND there is an uneven class distribution (large number of Actual Negatives).\n",
    "\n",
    "\n",
    "Further in analysis we would like to use ROC curves with True Positive Rate v. False positive rate to detemine the best algorithm and determine the optimal features for the best algorithm."
   ]
  },
  {
   "cell_type": "code",
   "execution_count": 9,
   "id": "41dcbd21",
   "metadata": {},
   "outputs": [],
   "source": [
    "from sklearn.model_selection import StratifiedKFold\n",
    "from sklearn.preprocessing import StandardScaler\n",
    "from sklearn import metrics as mt\n",
    "from sklearn.decomposition import PCA \n",
    "from sklearn.pipeline import Pipeline\n",
    "from sklearn.model_selection import ShuffleSplit\n",
    "from sklearn.model_selection import cross_validate\n",
    "\n",
    "def EvaluateClassifierEstimator(classifierEstimator, X, y, cv):\n",
    "   \n",
    "    #Perform cross validation \n",
    "    scores = cross_validate(classifierEstimator, X, y, scoring=['accuracy','precision','recall','f1']\n",
    "                            , cv=cv, return_train_score=True)\n",
    "\n",
    "    Accavg = scores['test_accuracy'].mean()\n",
    "    Preavg = scores['test_precision'].mean()\n",
    "    Recavg = scores['test_recall'].mean()\n",
    "    F1avg = scores['test_f1'].mean()\n",
    "\n",
    "    print_str = \"The average accuracy for all cv folds is: \\t\\t\\t {Accavg:.5}\"\n",
    "    print_str2 = \"The average precision for all cv folds is: \\t\\t\\t {Preavg:.5}\"\n",
    "    print_str3 = \"The average recall for all cv folds is: \\t\\t\\t {Recavg:.5}\"\n",
    "    print_str4 = \"The average F1 for all cv folds is: \\t\\t\\t\\t {F1avg:.6}\"\n",
    "\n",
    "    print(print_str.format(Accavg=Accavg))\n",
    "    print(print_str2.format(Preavg=Preavg))\n",
    "    print(print_str3.format(Recavg=Recavg))\n",
    "    print(print_str4.format(F1avg=F1avg))\n",
    "    print('*********************************************************')\n",
    "\n",
    "    print('Cross Validation Fold Mean Error Scores')\n",
    "    scoresResults = pd.DataFrame()\n",
    "    scoresResults['Accuracy'] = scores['test_accuracy']\n",
    "    scoresResults['Precision'] = scores['test_precision']\n",
    "    scoresResults['Recall'] = scores['test_recall']\n",
    "    scoresResults['F1'] = scores['test_f1']\n",
    "\n",
    "    return scoresResults\n",
    "\n",
    "def EvaluateClassifierEstimator2(classifierEstimator, X, y, cv):\n",
    "    \n",
    "    #Perform cross validation \n",
    "    from sklearn.model_selection import cross_val_predict\n",
    "    predictions = cross_val_predict(classifierEstimator, X, y, cv=cv)\n",
    "    \n",
    "    #model evaluation \n",
    "    from sklearn.metrics import classification_report, confusion_matrix, accuracy_score\n",
    "    \n",
    "    #pass true test set values and predictions to classification_report\n",
    "    classReport = classification_report(y,predictions)\n",
    "    confMat = confusion_matrix(y,predictions)\n",
    "    acc = accuracy_score(y,predictions)\n",
    "    \n",
    "    print (classReport)\n",
    "    print (confMat)\n",
    "    print (acc)\n"
   ]
  },
  {
   "cell_type": "markdown",
   "id": "3840794b",
   "metadata": {},
   "source": [
    "## Modeling and Evaluation 2\n",
    "\n",
    "### Cross Validation Method\n",
    "\n",
    "For both classification tasks and all models, 10-fold stratified K-fold cross validation will be used. Using stratified ensures that the same class split percentages across all test and training splits are the same. This is important as both of these classes are imbalanced (reference histograms below), especially cleanliness. This ensures that for all for modeling training and testing the same percentage split of class is maintained. K fold also ensures that each test set are independent from one another. Other methodologies such as shuffle split will not guarantee that all folds will be different. Using 10-fold ensures the variance and bias tradeoff and will also ensure the model and predictions generated are used responsibly."
   ]
  },
  {
   "cell_type": "markdown",
   "id": "50ce2b22",
   "metadata": {},
   "source": [
    "##### Cleanliness Histogram"
   ]
  },
  {
   "cell_type": "code",
   "execution_count": 10,
   "id": "63a40581",
   "metadata": {},
   "outputs": [
    {
     "data": {
      "text/plain": [
       "array([<AxesSubplot:title={'center':'clean'}>], dtype=object)"
      ]
     },
     "execution_count": 10,
     "metadata": {},
     "output_type": "execute_result"
    },
    {
     "data": {
      "image/png": "[encoded data removed]",
      "text/plain": [
       "<Figure size 576x576 with 1 Axes>"
      ]
     },
     "metadata": {
      "needs_background": "light"
     },
     "output_type": "display_data"
    }
   ],
   "source": [
    "import pandas as pd\n",
    "import matplotlib.pyplot as plt\n",
    "%matplotlib inline\n",
    "\n",
    "fig, axis = plt.subplots(1,1,figsize=(8, 8))\n",
    "airline_df_dummy_clean[['clean']].hist(ax=axis)\n"
   ]
  },
  {
   "cell_type": "markdown",
   "id": "eda1af0e",
   "metadata": {},
   "source": [
    "##### Satisfaction Histogram"
   ]
  },
  {
   "cell_type": "code",
   "execution_count": 11,
   "id": "bc08880d",
   "metadata": {},
   "outputs": [
    {
     "data": {
      "text/plain": [
       "array([<AxesSubplot:title={'center':'satisfaction'}>], dtype=object)"
      ]
     },
     "execution_count": 11,
     "metadata": {},
     "output_type": "execute_result"
    },
    {
     "data": {
      "image/png": "[encoded data removed]",
      "text/plain": [
       "<Figure size 576x576 with 1 Axes>"
      ]
     },
     "metadata": {
      "needs_background": "light"
     },
     "output_type": "display_data"
    }
   ],
   "source": [
    "fig, axis = plt.subplots(1,1,figsize=(8, 8))\n",
    "airline_df_dummy_satisfied[['satisfaction']].hist(ax=axis)"
   ]
  },
  {
   "cell_type": "markdown",
   "id": "c39eb9ca",
   "metadata": {},
   "source": [
    "##### Stratified K (10) fold Cross Validation:"
   ]
  },
  {
   "cell_type": "code",
   "execution_count": 12,
   "id": "98ae4cd4",
   "metadata": {},
   "outputs": [
    {
     "name": "stdout",
     "output_type": "stream",
     "text": [
      "StratifiedKFold(n_splits=10, random_state=5, shuffle=True)\n"
     ]
    }
   ],
   "source": [
    "#Create Scaler\n",
    "scl = StandardScaler()\n",
    "\n",
    "#Split the data\n",
    "cv = StratifiedKFold(n_splits=10,shuffle=True, random_state=5)                     \n",
    "print(cv)"
   ]
  },
  {
   "cell_type": "markdown",
   "id": "c56ca6c7",
   "metadata": {},
   "source": [
    "##### Subsampling for Models  - neural networks, random forests, SVM."
   ]
  },
  {
   "cell_type": "markdown",
   "id": "553df376",
   "metadata": {},
   "source": [
    "For more complex and computationally expensive models (such as neural networks, random forests, SVM). A trimmed down sub sample of the datasets are created by taking a random sample of 30,000 records.  This is done to ensure that the grid search and tuning of parameters can be done in a timely manner.  Using the full dataset on this can take hours and is not practical use of time or resources.  The sub sampling is large enough to ensure there is enough training data to create and hyper-tune accurate models.\t"
   ]
  },
  {
   "cell_type": "code",
   "execution_count": 13,
   "id": "d55e2be2",
   "metadata": {},
   "outputs": [],
   "source": [
    "#Down size the data to 30000 samples for satisfaction classification\n",
    "model_satisfied = airline_df_dummy_satisfied.sample(n = 30000, random_state=5).copy()\n",
    "model_satisfied_y = model_satisfied['satisfaction'].copy()\n",
    "model_satisfied_x = model_satisfied.loc[:, model_satisfied.columns != 'satisfaction'].copy()\n",
    "\n",
    "model_satisfied_x = model_satisfied_x.values\n",
    "model_satisfied_y= model_satisfied_y.values"
   ]
  },
  {
   "cell_type": "code",
   "execution_count": 14,
   "id": "af5b4e71",
   "metadata": {},
   "outputs": [],
   "source": [
    "#Down size the data to 30000 samples for ease_of_online_booking classification\n",
    "model_clean = airline_df_dummy_clean.sample(n = 30000, random_state=5).copy()\n",
    "model_clean_y = model_clean['clean'].copy()\n",
    "model_clean_x = model_clean.loc[:, model_clean.columns != 'clean'].copy()\n",
    "\n",
    "model_clean_x = model_clean_x.values\n",
    "model_clean_y= model_clean_y.values"
   ]
  },
  {
   "cell_type": "markdown",
   "id": "814f9330",
   "metadata": {},
   "source": [
    "## Modeling and Evaluation 3\n",
    "\n",
    "### A. Satisfaction Classifcation Models\n",
    "\n",
    "##### Logistic Regression\n",
    "\n",
    "We listed the following parameters in our grid search for us to adjust by using our chosen metric to increase generalization performance.\n",
    "\n",
    "In penalty parameter L1 Lasso and L2 Ridge regularization methods are listed.\n",
    "We also listed two solvers 'liblinear' and 'saga' as both of them can be work under L1 and L2 regularization. 'sage' solver works faster in large data set.\n",
    "\n",
    "We listed different values for parameter C to tune from stronger to weaker regularization.\n",
    "\n",
    "We also give options to check if we need 'balanced' option and how many maximum iterations we need in our parameters."
   ]
  },
  {
   "cell_type": "code",
   "execution_count": 15,
   "id": "8a870e38",
   "metadata": {},
   "outputs": [
    {
     "name": "stdout",
     "output_type": "stream",
     "text": [
      "Fitting 10 folds for each of 112 candidates, totalling 1120 fits\n"
     ]
    },
    {
     "name": "stderr",
     "output_type": "stream",
     "text": [
      "[Parallel(n_jobs=7)]: Using backend LokyBackend with 7 concurrent workers.\n",
      "[Parallel(n_jobs=7)]: Done  36 tasks      | elapsed:   28.3s\n",
      "[Parallel(n_jobs=7)]: Done 186 tasks      | elapsed:  2.1min\n",
      "[Parallel(n_jobs=7)]: Done 436 tasks      | elapsed:  4.7min\n",
      "[Parallel(n_jobs=7)]: Done 786 tasks      | elapsed:  8.5min\n",
      "[Parallel(n_jobs=7)]: Done 1120 out of 1120 | elapsed: 12.4min finished\n"
     ]
    },
    {
     "data": {
      "text/plain": [
       "GridSearchCV(cv=StratifiedKFold(n_splits=10, random_state=5, shuffle=True),\n",
       "             estimator=Pipeline(steps=[('scale', StandardScaler()),\n",
       "                                       ('PCA', PCA(n_components=23)),\n",
       "                                       ('clf', LogisticRegression())]),\n",
       "             n_jobs=7,\n",
       "             param_grid={'clf__C': [0.001, 0.01, 0.1, 1, 10, 100, 1000],\n",
       "                         'clf__class_weight': ['balanced', 'none'],\n",
       "                         'clf__max_iter': [100, 500],\n",
       "                         'clf__penalty': ['l2', 'l1'], 'clf__random_state': [5],\n",
       "                         'clf__solver': ['liblinear', 'saga']},\n",
       "             scoring='accuracy', verbose=1)"
      ]
     },
     "execution_count": 15,
     "metadata": {},
     "output_type": "execute_result"
    }
   ],
   "source": [
    "from sklearn.linear_model import LogisticRegression\n",
    "from sklearn.svm import SVC\n",
    "from sklearn.naive_bayes import GaussianNB\n",
    "from sklearn.linear_model import SGDClassifier\n",
    "from sklearn.neighbors import KNeighborsClassifier\n",
    "from sklearn.model_selection import GridSearchCV\n",
    "from sklearn.tree import DecisionTreeClassifier\n",
    "from sklearn.ensemble import RandomForestClassifier\n",
    "from sklearn.ensemble import ExtraTreesClassifier\n",
    "from sklearn.ensemble import GradientBoostingClassifier\n",
    "from sklearn.neural_network import MLPClassifier\n",
    "\n",
    "#Create Pipeline for scaler, PCA and model classifier\n",
    "\n",
    "\n",
    "regEstimator = LogisticRegression()\n",
    "\n",
    "pipeline = Pipeline([\n",
    "    ('scale', scl),\n",
    "    ('PCA',PCA(n_components=23, svd_solver='auto')),\n",
    "    ('clf', regEstimator),\n",
    "])\n",
    "\n",
    "parameters = { 'clf__penalty':['l2','l1']\n",
    "              ,'clf__C': [0.001, 0.01, 0.1, 1, 10, 100, 1000]\n",
    "              ,'clf__class_weight': ['balanced','none']\n",
    "              ,'clf__random_state': [5]\n",
    "              ,'clf__solver': ['liblinear','saga']\n",
    "              ,'clf__max_iter':[100,500]\n",
    "             }\n",
    "\n",
    "regGridSearch = GridSearchCV(pipeline, param_grid=parameters, cv=cv, n_jobs=7, verbose=1, scoring='accuracy')\n",
    "\n",
    "\n",
    "regGridSearch.fit(X_a, y_a)"
   ]
  },
  {
   "cell_type": "code",
   "execution_count": 16,
   "id": "762e5acf",
   "metadata": {},
   "outputs": [
    {
     "data": {
      "text/plain": [
       "Pipeline(steps=[('scale', StandardScaler()), ('PCA', PCA(n_components=23)),\n",
       "                ('clf',\n",
       "                 LogisticRegression(C=0.01, class_weight='none', penalty='l1',\n",
       "                                    random_state=5, solver='saga'))])"
      ]
     },
     "execution_count": 16,
     "metadata": {},
     "output_type": "execute_result"
    }
   ],
   "source": [
    "regGridSearch.best_estimator_"
   ]
  },
  {
   "cell_type": "code",
   "execution_count": 17,
   "id": "7efbcb5f",
   "metadata": {},
   "outputs": [
    {
     "name": "stdout",
     "output_type": "stream",
     "text": [
      "The average accuracy for all cv folds is: \t\t\t 0.87246\n",
      "The average precision for all cv folds is: \t\t\t 0.86766\n",
      "The average recall for all cv folds is: \t\t\t 0.83362\n",
      "The average F1 for all cv folds is: \t\t\t\t 0.850291\n",
      "*********************************************************\n",
      "Cross Validation Fold Mean Error Scores\n"
     ]
    },
    {
     "data": {
      "text/html": [
       "<div>\n",
       "<style scoped>\n",
       "    .dataframe tbody tr th:only-of-type {\n",
       "        vertical-align: middle;\n",
       "    }\n",
       "\n",
       "    .dataframe tbody tr th {\n",
       "        vertical-align: top;\n",
       "    }\n",
       "\n",
       "    .dataframe thead th {\n",
       "        text-align: right;\n",
       "    }\n",
       "</style>\n",
       "<table border=\"1\" class=\"dataframe\">\n",
       "  <thead>\n",
       "    <tr style=\"text-align: right;\">\n",
       "      <th></th>\n",
       "      <th>Accuracy</th>\n",
       "      <th>Precision</th>\n",
       "      <th>Recall</th>\n",
       "      <th>F1</th>\n",
       "    </tr>\n",
       "  </thead>\n",
       "  <tbody>\n",
       "    <tr>\n",
       "      <th>0</th>\n",
       "      <td>0.873504</td>\n",
       "      <td>0.871322</td>\n",
       "      <td>0.831674</td>\n",
       "      <td>0.851037</td>\n",
       "    </tr>\n",
       "    <tr>\n",
       "      <th>1</th>\n",
       "      <td>0.875898</td>\n",
       "      <td>0.871923</td>\n",
       "      <td>0.837362</td>\n",
       "      <td>0.854293</td>\n",
       "    </tr>\n",
       "    <tr>\n",
       "      <th>2</th>\n",
       "      <td>0.874044</td>\n",
       "      <td>0.865107</td>\n",
       "      <td>0.841273</td>\n",
       "      <td>0.853023</td>\n",
       "    </tr>\n",
       "    <tr>\n",
       "      <th>3</th>\n",
       "      <td>0.874122</td>\n",
       "      <td>0.870686</td>\n",
       "      <td>0.834163</td>\n",
       "      <td>0.852033</td>\n",
       "    </tr>\n",
       "    <tr>\n",
       "      <th>4</th>\n",
       "      <td>0.870878</td>\n",
       "      <td>0.868156</td>\n",
       "      <td>0.828653</td>\n",
       "      <td>0.847945</td>\n",
       "    </tr>\n",
       "    <tr>\n",
       "      <th>5</th>\n",
       "      <td>0.871728</td>\n",
       "      <td>0.867631</td>\n",
       "      <td>0.831704</td>\n",
       "      <td>0.849288</td>\n",
       "    </tr>\n",
       "    <tr>\n",
       "      <th>6</th>\n",
       "      <td>0.871264</td>\n",
       "      <td>0.863703</td>\n",
       "      <td>0.835614</td>\n",
       "      <td>0.849426</td>\n",
       "    </tr>\n",
       "    <tr>\n",
       "      <th>7</th>\n",
       "      <td>0.868783</td>\n",
       "      <td>0.865031</td>\n",
       "      <td>0.827053</td>\n",
       "      <td>0.845616</td>\n",
       "    </tr>\n",
       "    <tr>\n",
       "      <th>8</th>\n",
       "      <td>0.876815</td>\n",
       "      <td>0.871247</td>\n",
       "      <td>0.840739</td>\n",
       "      <td>0.855721</td>\n",
       "    </tr>\n",
       "    <tr>\n",
       "      <th>9</th>\n",
       "      <td>0.867547</td>\n",
       "      <td>0.861795</td>\n",
       "      <td>0.827942</td>\n",
       "      <td>0.844529</td>\n",
       "    </tr>\n",
       "  </tbody>\n",
       "</table>\n",
       "</div>"
      ],
      "text/plain": [
       "   Accuracy  Precision    Recall        F1\n",
       "0  0.873504   0.871322  0.831674  0.851037\n",
       "1  0.875898   0.871923  0.837362  0.854293\n",
       "2  0.874044   0.865107  0.841273  0.853023\n",
       "3  0.874122   0.870686  0.834163  0.852033\n",
       "4  0.870878   0.868156  0.828653  0.847945\n",
       "5  0.871728   0.867631  0.831704  0.849288\n",
       "6  0.871264   0.863703  0.835614  0.849426\n",
       "7  0.868783   0.865031  0.827053  0.845616\n",
       "8  0.876815   0.871247  0.840739  0.855721\n",
       "9  0.867547   0.861795  0.827942  0.844529"
      ]
     },
     "execution_count": 17,
     "metadata": {},
     "output_type": "execute_result"
    }
   ],
   "source": [
    "classifierEst_1 = regGridSearch.best_estimator_\n",
    "\n",
    "EvaluateClassifierEstimator(classifierEst_1, X_a, y_a, cv)"
   ]
  },
  {
   "cell_type": "markdown",
   "id": "f94b41c3",
   "metadata": {},
   "source": [
    "##### Random Forest"
   ]
  },
  {
   "cell_type": "markdown",
   "id": "0f172137",
   "metadata": {},
   "source": [
    "We listed the following parameters in our grid search for us to adjust by using our chosen metric to increase generalization performance.\n",
    "\n",
    "We listed 100, 150 and 200 in n_estimators to indicate different number of trees in the forest.\n",
    "\n",
    "We also give options to check if we need 'balanced' option our model.\n",
    "\n",
    "We want to test both 'gini' and 'entropy' functions in our model and we list three different numbers (10, 20 and 50) for the maximum depth of the tree.\n"
   ]
  },
  {
   "cell_type": "code",
   "execution_count": 18,
   "id": "e7cb63a1",
   "metadata": {},
   "outputs": [
    {
     "name": "stdout",
     "output_type": "stream",
     "text": [
      "Fitting 10 folds for each of 36 candidates, totalling 360 fits\n"
     ]
    },
    {
     "name": "stderr",
     "output_type": "stream",
     "text": [
      "[Parallel(n_jobs=7)]: Using backend LokyBackend with 7 concurrent workers.\n",
      "[Parallel(n_jobs=7)]: Done  36 tasks      | elapsed:  2.3min\n",
      "[Parallel(n_jobs=7)]: Done 186 tasks      | elapsed: 15.3min\n",
      "[Parallel(n_jobs=7)]: Done 360 out of 360 | elapsed: 16.2min finished\n"
     ]
    },
    {
     "data": {
      "text/plain": [
       "GridSearchCV(cv=StratifiedKFold(n_splits=10, random_state=5, shuffle=True),\n",
       "             estimator=Pipeline(steps=[('scale', StandardScaler()),\n",
       "                                       ('PCA', PCA(n_components=23)),\n",
       "                                       ('clf', RandomForestClassifier())]),\n",
       "             n_jobs=7,\n",
       "             param_grid={'clf__class_weight': ['balanced', 'none'],\n",
       "                         'clf__criterion': ['gini', 'entropy'],\n",
       "                         'clf__max_depth': [10, 20, 50],\n",
       "                         'clf__n_estimators': [100, 150, 200],\n",
       "                         'clf__random_state': [5]},\n",
       "             scoring='accuracy', verbose=1)"
      ]
     },
     "execution_count": 18,
     "metadata": {},
     "output_type": "execute_result"
    }
   ],
   "source": [
    "regEstimator = RandomForestClassifier()\n",
    "\n",
    "pipeline = Pipeline([\n",
    "    ('scale', scl),\n",
    "    ('PCA',PCA(n_components=23, svd_solver='auto')),\n",
    "    ('clf', regEstimator),\n",
    "])\n",
    "\n",
    "parameters = {'clf__criterion': ['gini','entropy']\n",
    "              ,'clf__random_state': [5]\n",
    "              ,'clf__max_depth': [10,20,50]\n",
    "              ,'clf__n_estimators':[100,150,200]\n",
    "              ,'clf__class_weight':['balanced','none']\n",
    "             }\n",
    "\n",
    "regGridSearch = GridSearchCV(pipeline, param_grid=parameters, cv=cv, n_jobs=7, verbose=1, scoring='accuracy')\n",
    "\n",
    "\n",
    "regGridSearch.fit(model_satisfied_x, model_satisfied_y)"
   ]
  },
  {
   "cell_type": "code",
   "execution_count": 19,
   "id": "0cb87e8f",
   "metadata": {},
   "outputs": [
    {
     "data": {
      "text/plain": [
       "Pipeline(steps=[('scale', StandardScaler()), ('PCA', PCA(n_components=23)),\n",
       "                ('clf',\n",
       "                 RandomForestClassifier(class_weight='balanced', max_depth=50,\n",
       "                                        n_estimators=200, random_state=5))])"
      ]
     },
     "execution_count": 19,
     "metadata": {},
     "output_type": "execute_result"
    }
   ],
   "source": [
    "regGridSearch.best_estimator_"
   ]
  },
  {
   "cell_type": "code",
   "execution_count": 20,
   "id": "1817ce43",
   "metadata": {},
   "outputs": [
    {
     "name": "stdout",
     "output_type": "stream",
     "text": [
      "The average accuracy for all cv folds is: \t\t\t 0.92956\n",
      "The average precision for all cv folds is: \t\t\t 0.945\n",
      "The average recall for all cv folds is: \t\t\t 0.88968\n",
      "The average F1 for all cv folds is: \t\t\t\t 0.916497\n",
      "*********************************************************\n",
      "Cross Validation Fold Mean Error Scores\n"
     ]
    },
    {
     "data": {
      "text/html": [
       "<div>\n",
       "<style scoped>\n",
       "    .dataframe tbody tr th:only-of-type {\n",
       "        vertical-align: middle;\n",
       "    }\n",
       "\n",
       "    .dataframe tbody tr th {\n",
       "        vertical-align: top;\n",
       "    }\n",
       "\n",
       "    .dataframe thead th {\n",
       "        text-align: right;\n",
       "    }\n",
       "</style>\n",
       "<table border=\"1\" class=\"dataframe\">\n",
       "  <thead>\n",
       "    <tr style=\"text-align: right;\">\n",
       "      <th></th>\n",
       "      <th>Accuracy</th>\n",
       "      <th>Precision</th>\n",
       "      <th>Recall</th>\n",
       "      <th>F1</th>\n",
       "    </tr>\n",
       "  </thead>\n",
       "  <tbody>\n",
       "    <tr>\n",
       "      <th>0</th>\n",
       "      <td>0.931346</td>\n",
       "      <td>0.950885</td>\n",
       "      <td>0.887842</td>\n",
       "      <td>0.918283</td>\n",
       "    </tr>\n",
       "    <tr>\n",
       "      <th>1</th>\n",
       "      <td>0.934358</td>\n",
       "      <td>0.952444</td>\n",
       "      <td>0.893530</td>\n",
       "      <td>0.922047</td>\n",
       "    </tr>\n",
       "    <tr>\n",
       "      <th>2</th>\n",
       "      <td>0.930188</td>\n",
       "      <td>0.943630</td>\n",
       "      <td>0.892641</td>\n",
       "      <td>0.917428</td>\n",
       "    </tr>\n",
       "    <tr>\n",
       "      <th>3</th>\n",
       "      <td>0.930574</td>\n",
       "      <td>0.945187</td>\n",
       "      <td>0.891930</td>\n",
       "      <td>0.917787</td>\n",
       "    </tr>\n",
       "    <tr>\n",
       "      <th>4</th>\n",
       "      <td>0.928257</td>\n",
       "      <td>0.944707</td>\n",
       "      <td>0.886776</td>\n",
       "      <td>0.914825</td>\n",
       "    </tr>\n",
       "    <tr>\n",
       "      <th>5</th>\n",
       "      <td>0.927794</td>\n",
       "      <td>0.945330</td>\n",
       "      <td>0.885019</td>\n",
       "      <td>0.914181</td>\n",
       "    </tr>\n",
       "    <tr>\n",
       "      <th>6</th>\n",
       "      <td>0.927408</td>\n",
       "      <td>0.942922</td>\n",
       "      <td>0.886618</td>\n",
       "      <td>0.913904</td>\n",
       "    </tr>\n",
       "    <tr>\n",
       "      <th>7</th>\n",
       "      <td>0.924930</td>\n",
       "      <td>0.938891</td>\n",
       "      <td>0.884820</td>\n",
       "      <td>0.911054</td>\n",
       "    </tr>\n",
       "    <tr>\n",
       "      <th>8</th>\n",
       "      <td>0.932654</td>\n",
       "      <td>0.943801</td>\n",
       "      <td>0.898507</td>\n",
       "      <td>0.920597</td>\n",
       "    </tr>\n",
       "    <tr>\n",
       "      <th>9</th>\n",
       "      <td>0.928097</td>\n",
       "      <td>0.942174</td>\n",
       "      <td>0.889086</td>\n",
       "      <td>0.914861</td>\n",
       "    </tr>\n",
       "  </tbody>\n",
       "</table>\n",
       "</div>"
      ],
      "text/plain": [
       "   Accuracy  Precision    Recall        F1\n",
       "0  0.931346   0.950885  0.887842  0.918283\n",
       "1  0.934358   0.952444  0.893530  0.922047\n",
       "2  0.930188   0.943630  0.892641  0.917428\n",
       "3  0.930574   0.945187  0.891930  0.917787\n",
       "4  0.928257   0.944707  0.886776  0.914825\n",
       "5  0.927794   0.945330  0.885019  0.914181\n",
       "6  0.927408   0.942922  0.886618  0.913904\n",
       "7  0.924930   0.938891  0.884820  0.911054\n",
       "8  0.932654   0.943801  0.898507  0.920597\n",
       "9  0.928097   0.942174  0.889086  0.914861"
      ]
     },
     "execution_count": 20,
     "metadata": {},
     "output_type": "execute_result"
    }
   ],
   "source": [
    "classifierEst_3 = regGridSearch.best_estimator_\n",
    "\n",
    "EvaluateClassifierEstimator(classifierEst_3, X_a, y_a, cv)"
   ]
  },
  {
   "cell_type": "markdown",
   "id": "fd9e703a",
   "metadata": {},
   "source": [
    "##### Support Vector Machine"
   ]
  },
  {
   "cell_type": "markdown",
   "id": "60d99b0a",
   "metadata": {},
   "source": [
    "We only want SVM to run model under radial basis function kernel and we set the degree of polynomial kernel function to 3.\n",
    "\n",
    "We listed different kernel coefficient in gamma parameter, 'scale' means it uses 1 / (n_features * X.var()) and 'auto' means it uses 1 / n_features.\n",
    "\n",
    "We listed different values for parameter C to tune from stronger to weaker regularization.\n",
    "\n",
    "In order to run SVM model efficiently, we use 30,000 downsampled data instead entire data\n"
   ]
  },
  {
   "cell_type": "code",
   "execution_count": 21,
   "id": "f231df7d",
   "metadata": {},
   "outputs": [
    {
     "name": "stdout",
     "output_type": "stream",
     "text": [
      "Fitting 10 folds for each of 36 candidates, totalling 360 fits\n"
     ]
    },
    {
     "name": "stderr",
     "output_type": "stream",
     "text": [
      "[Parallel(n_jobs=7)]: Using backend LokyBackend with 7 concurrent workers.\n",
      "[Parallel(n_jobs=7)]: Done  36 tasks      | elapsed:  9.0min\n",
      "[Parallel(n_jobs=7)]: Done 186 tasks      | elapsed: 35.5min\n",
      "[Parallel(n_jobs=7)]: Done 360 out of 360 | elapsed: 79.3min finished\n"
     ]
    },
    {
     "data": {
      "text/plain": [
       "GridSearchCV(cv=StratifiedKFold(n_splits=10, random_state=5, shuffle=True),\n",
       "             estimator=Pipeline(steps=[('scale', StandardScaler()),\n",
       "                                       ('PCA', PCA(n_components=23)),\n",
       "                                       ('clf', SVC())]),\n",
       "             n_jobs=7,\n",
       "             param_grid={'clf__C': [0.001, 0.01, 0.1, 1, 10, 100],\n",
       "                         'clf__degree': [3],\n",
       "                         'clf__gamma': ['scale', 'auto', 1, 0.1, 0.01, 0.001],\n",
       "                         'clf__kernel': ['rbf'], 'clf__random_state': [5]},\n",
       "             scoring='accuracy', verbose=1)"
      ]
     },
     "execution_count": 21,
     "metadata": {},
     "output_type": "execute_result"
    }
   ],
   "source": [
    "regEstimator = SVC()\n",
    "\n",
    "pipeline = Pipeline([\n",
    "    ('scale', scl),\n",
    "    ('PCA',PCA(n_components=23, svd_solver='auto')),\n",
    "    ('clf', regEstimator),\n",
    "])\n",
    "\n",
    "parameters = {'clf__C': [0.001, 0.01, 0.1, 1, 10, 100], \n",
    "              'clf__gamma': ['scale', 'auto', 1, 0.1, 0.01, 0.001],\n",
    "              'clf__kernel':['rbf'], \n",
    "              'clf__degree':[3], \n",
    "              'clf__random_state':[5],\n",
    "             }\n",
    "\n",
    "regGridSearch = GridSearchCV(pipeline, param_grid=parameters, cv=cv, n_jobs=7, verbose=1, scoring='accuracy')\n",
    "\n",
    "\n",
    "regGridSearch.fit(model_satisfied_x, model_satisfied_y)"
   ]
  },
  {
   "cell_type": "code",
   "execution_count": 22,
   "id": "ea0d7d21",
   "metadata": {},
   "outputs": [
    {
     "data": {
      "text/plain": [
       "Pipeline(steps=[('scale', StandardScaler()), ('PCA', PCA(n_components=23)),\n",
       "                ('clf', SVC(C=10, random_state=5))])"
      ]
     },
     "execution_count": 22,
     "metadata": {},
     "output_type": "execute_result"
    }
   ],
   "source": [
    "regGridSearch.best_estimator_"
   ]
  },
  {
   "cell_type": "code",
   "execution_count": 23,
   "id": "cd4b18f9",
   "metadata": {},
   "outputs": [
    {
     "name": "stdout",
     "output_type": "stream",
     "text": [
      "The average accuracy for all cv folds is: \t\t\t 0.9369\n",
      "The average precision for all cv folds is: \t\t\t 0.94046\n",
      "The average recall for all cv folds is: \t\t\t 0.91462\n",
      "The average F1 for all cv folds is: \t\t\t\t 0.927356\n",
      "*********************************************************\n",
      "Cross Validation Fold Mean Error Scores\n"
     ]
    },
    {
     "data": {
      "text/html": [
       "<div>\n",
       "<style scoped>\n",
       "    .dataframe tbody tr th:only-of-type {\n",
       "        vertical-align: middle;\n",
       "    }\n",
       "\n",
       "    .dataframe tbody tr th {\n",
       "        vertical-align: top;\n",
       "    }\n",
       "\n",
       "    .dataframe thead th {\n",
       "        text-align: right;\n",
       "    }\n",
       "</style>\n",
       "<table border=\"1\" class=\"dataframe\">\n",
       "  <thead>\n",
       "    <tr style=\"text-align: right;\">\n",
       "      <th></th>\n",
       "      <th>Accuracy</th>\n",
       "      <th>Precision</th>\n",
       "      <th>Recall</th>\n",
       "      <th>F1</th>\n",
       "    </tr>\n",
       "  </thead>\n",
       "  <tbody>\n",
       "    <tr>\n",
       "      <th>0</th>\n",
       "      <td>0.930333</td>\n",
       "      <td>0.932348</td>\n",
       "      <td>0.907646</td>\n",
       "      <td>0.919831</td>\n",
       "    </tr>\n",
       "    <tr>\n",
       "      <th>1</th>\n",
       "      <td>0.941000</td>\n",
       "      <td>0.940678</td>\n",
       "      <td>0.924300</td>\n",
       "      <td>0.932417</td>\n",
       "    </tr>\n",
       "    <tr>\n",
       "      <th>2</th>\n",
       "      <td>0.937667</td>\n",
       "      <td>0.940902</td>\n",
       "      <td>0.915973</td>\n",
       "      <td>0.928270</td>\n",
       "    </tr>\n",
       "    <tr>\n",
       "      <th>3</th>\n",
       "      <td>0.939000</td>\n",
       "      <td>0.948031</td>\n",
       "      <td>0.911431</td>\n",
       "      <td>0.929371</td>\n",
       "    </tr>\n",
       "    <tr>\n",
       "      <th>4</th>\n",
       "      <td>0.936333</td>\n",
       "      <td>0.941406</td>\n",
       "      <td>0.912188</td>\n",
       "      <td>0.926567</td>\n",
       "    </tr>\n",
       "    <tr>\n",
       "      <th>5</th>\n",
       "      <td>0.932667</td>\n",
       "      <td>0.936768</td>\n",
       "      <td>0.908403</td>\n",
       "      <td>0.922367</td>\n",
       "    </tr>\n",
       "    <tr>\n",
       "      <th>6</th>\n",
       "      <td>0.935667</td>\n",
       "      <td>0.939252</td>\n",
       "      <td>0.912945</td>\n",
       "      <td>0.925912</td>\n",
       "    </tr>\n",
       "    <tr>\n",
       "      <th>7</th>\n",
       "      <td>0.933667</td>\n",
       "      <td>0.934884</td>\n",
       "      <td>0.912945</td>\n",
       "      <td>0.923784</td>\n",
       "    </tr>\n",
       "    <tr>\n",
       "      <th>8</th>\n",
       "      <td>0.934000</td>\n",
       "      <td>0.939063</td>\n",
       "      <td>0.909228</td>\n",
       "      <td>0.923905</td>\n",
       "    </tr>\n",
       "    <tr>\n",
       "      <th>9</th>\n",
       "      <td>0.948667</td>\n",
       "      <td>0.951314</td>\n",
       "      <td>0.931165</td>\n",
       "      <td>0.941131</td>\n",
       "    </tr>\n",
       "  </tbody>\n",
       "</table>\n",
       "</div>"
      ],
      "text/plain": [
       "   Accuracy  Precision    Recall        F1\n",
       "0  0.930333   0.932348  0.907646  0.919831\n",
       "1  0.941000   0.940678  0.924300  0.932417\n",
       "2  0.937667   0.940902  0.915973  0.928270\n",
       "3  0.939000   0.948031  0.911431  0.929371\n",
       "4  0.936333   0.941406  0.912188  0.926567\n",
       "5  0.932667   0.936768  0.908403  0.922367\n",
       "6  0.935667   0.939252  0.912945  0.925912\n",
       "7  0.933667   0.934884  0.912945  0.923784\n",
       "8  0.934000   0.939063  0.909228  0.923905\n",
       "9  0.948667   0.951314  0.931165  0.941131"
      ]
     },
     "execution_count": 23,
     "metadata": {},
     "output_type": "execute_result"
    }
   ],
   "source": [
    "classifierEst_4 = regGridSearch.best_estimator_\n",
    "\n",
    "EvaluateClassifierEstimator(classifierEst_4, model_satisfied_x, model_satisfied_y, cv)"
   ]
  },
  {
   "cell_type": "markdown",
   "id": "a48d247c",
   "metadata": {},
   "source": [
    "##### Decision Tree Model"
   ]
  },
  {
   "cell_type": "markdown",
   "id": "f0e27c47",
   "metadata": {},
   "source": [
    "The decision tree model follows the same approach as the the random forest model.\n",
    "\n",
    "We give options to check if we need 'balanced' option our parameter.\n",
    "\n",
    "We want to test both 'gini' and 'entropy' functions in our model and we list three different numbers (10, 20 and 50) for the maximum depth of the tree.\n",
    "\n",
    "In order to run Decision Tree model efficiently, we use 30,000 downsampled data instead entire data"
   ]
  },
  {
   "cell_type": "code",
   "execution_count": 24,
   "id": "39364624",
   "metadata": {},
   "outputs": [
    {
     "name": "stdout",
     "output_type": "stream",
     "text": [
      "Fitting 10 folds for each of 12 candidates, totalling 120 fits\n"
     ]
    },
    {
     "name": "stderr",
     "output_type": "stream",
     "text": [
      "[Parallel(n_jobs=7)]: Using backend LokyBackend with 7 concurrent workers.\n",
      "[Parallel(n_jobs=7)]: Done  36 tasks      | elapsed:   13.9s\n",
      "[Parallel(n_jobs=7)]: Done 120 out of 120 | elapsed:   27.8s finished\n"
     ]
    },
    {
     "data": {
      "text/plain": [
       "GridSearchCV(cv=StratifiedKFold(n_splits=10, random_state=5, shuffle=True),\n",
       "             estimator=Pipeline(steps=[('scale', StandardScaler()),\n",
       "                                       ('PCA', PCA(n_components=23)),\n",
       "                                       ('clf', DecisionTreeClassifier())]),\n",
       "             n_jobs=7,\n",
       "             param_grid={'clf__class_weight': ['balanced', 'none'],\n",
       "                         'clf__criterion': ['gini', 'entropy'],\n",
       "                         'clf__max_depth': [10, 20, 50],\n",
       "                         'clf__random_state': [5]},\n",
       "             scoring='accuracy', verbose=1)"
      ]
     },
     "execution_count": 24,
     "metadata": {},
     "output_type": "execute_result"
    }
   ],
   "source": [
    "\n",
    "regEstimator = DecisionTreeClassifier()\n",
    "\n",
    "pipeline = Pipeline([\n",
    "    ('scale', scl),\n",
    "    ('PCA',PCA(n_components=23, svd_solver='auto')),\n",
    "    ('clf', regEstimator),\n",
    "])\n",
    "\n",
    "parameters = {'clf__criterion': ['gini','entropy']\n",
    "              ,'clf__random_state': [5]\n",
    "              ,'clf__max_depth': [10,20,50]\n",
    "              ,'clf__class_weight':['balanced','none']}\n",
    "\n",
    "regGridSearch = GridSearchCV(pipeline, param_grid=parameters, cv=cv, n_jobs=7, verbose=1, scoring='accuracy')\n",
    "\n",
    "\n",
    "regGridSearch.fit(model_satisfied_x, model_satisfied_y)"
   ]
  },
  {
   "cell_type": "code",
   "execution_count": 25,
   "id": "f63e1b76",
   "metadata": {},
   "outputs": [
    {
     "data": {
      "text/plain": [
       "Pipeline(steps=[('scale', StandardScaler()), ('PCA', PCA(n_components=23)),\n",
       "                ('clf',\n",
       "                 DecisionTreeClassifier(class_weight='balanced', max_depth=10,\n",
       "                                        random_state=5))])"
      ]
     },
     "execution_count": 25,
     "metadata": {},
     "output_type": "execute_result"
    }
   ],
   "source": [
    "regGridSearch.best_estimator_"
   ]
  },
  {
   "cell_type": "code",
   "execution_count": 26,
   "id": "270891e3",
   "metadata": {},
   "outputs": [
    {
     "name": "stdout",
     "output_type": "stream",
     "text": [
      "The average accuracy for all cv folds is: \t\t\t 0.88383\n",
      "The average precision for all cv folds is: \t\t\t 0.88719\n",
      "The average recall for all cv folds is: \t\t\t 0.84363\n",
      "The average F1 for all cv folds is: \t\t\t\t 0.864758\n",
      "*********************************************************\n",
      "Cross Validation Fold Mean Error Scores\n"
     ]
    },
    {
     "data": {
      "text/html": [
       "<div>\n",
       "<style scoped>\n",
       "    .dataframe tbody tr th:only-of-type {\n",
       "        vertical-align: middle;\n",
       "    }\n",
       "\n",
       "    .dataframe tbody tr th {\n",
       "        vertical-align: top;\n",
       "    }\n",
       "\n",
       "    .dataframe thead th {\n",
       "        text-align: right;\n",
       "    }\n",
       "</style>\n",
       "<table border=\"1\" class=\"dataframe\">\n",
       "  <thead>\n",
       "    <tr style=\"text-align: right;\">\n",
       "      <th></th>\n",
       "      <th>Accuracy</th>\n",
       "      <th>Precision</th>\n",
       "      <th>Recall</th>\n",
       "      <th>F1</th>\n",
       "    </tr>\n",
       "  </thead>\n",
       "  <tbody>\n",
       "    <tr>\n",
       "      <th>0</th>\n",
       "      <td>0.877000</td>\n",
       "      <td>0.874214</td>\n",
       "      <td>0.841787</td>\n",
       "      <td>0.857694</td>\n",
       "    </tr>\n",
       "    <tr>\n",
       "      <th>1</th>\n",
       "      <td>0.892000</td>\n",
       "      <td>0.879665</td>\n",
       "      <td>0.874338</td>\n",
       "      <td>0.876993</td>\n",
       "    </tr>\n",
       "    <tr>\n",
       "      <th>2</th>\n",
       "      <td>0.881333</td>\n",
       "      <td>0.883241</td>\n",
       "      <td>0.841787</td>\n",
       "      <td>0.862016</td>\n",
       "    </tr>\n",
       "    <tr>\n",
       "      <th>3</th>\n",
       "      <td>0.876667</td>\n",
       "      <td>0.894606</td>\n",
       "      <td>0.816048</td>\n",
       "      <td>0.853523</td>\n",
       "    </tr>\n",
       "    <tr>\n",
       "      <th>4</th>\n",
       "      <td>0.877333</td>\n",
       "      <td>0.884584</td>\n",
       "      <td>0.829674</td>\n",
       "      <td>0.856250</td>\n",
       "    </tr>\n",
       "    <tr>\n",
       "      <th>5</th>\n",
       "      <td>0.881000</td>\n",
       "      <td>0.880727</td>\n",
       "      <td>0.844058</td>\n",
       "      <td>0.862002</td>\n",
       "    </tr>\n",
       "    <tr>\n",
       "      <th>6</th>\n",
       "      <td>0.890667</td>\n",
       "      <td>0.905306</td>\n",
       "      <td>0.839516</td>\n",
       "      <td>0.871170</td>\n",
       "    </tr>\n",
       "    <tr>\n",
       "      <th>7</th>\n",
       "      <td>0.893667</td>\n",
       "      <td>0.898251</td>\n",
       "      <td>0.855413</td>\n",
       "      <td>0.876309</td>\n",
       "    </tr>\n",
       "    <tr>\n",
       "      <th>8</th>\n",
       "      <td>0.882000</td>\n",
       "      <td>0.884127</td>\n",
       "      <td>0.842663</td>\n",
       "      <td>0.862897</td>\n",
       "    </tr>\n",
       "    <tr>\n",
       "      <th>9</th>\n",
       "      <td>0.886667</td>\n",
       "      <td>0.887224</td>\n",
       "      <td>0.850983</td>\n",
       "      <td>0.868726</td>\n",
       "    </tr>\n",
       "  </tbody>\n",
       "</table>\n",
       "</div>"
      ],
      "text/plain": [
       "   Accuracy  Precision    Recall        F1\n",
       "0  0.877000   0.874214  0.841787  0.857694\n",
       "1  0.892000   0.879665  0.874338  0.876993\n",
       "2  0.881333   0.883241  0.841787  0.862016\n",
       "3  0.876667   0.894606  0.816048  0.853523\n",
       "4  0.877333   0.884584  0.829674  0.856250\n",
       "5  0.881000   0.880727  0.844058  0.862002\n",
       "6  0.890667   0.905306  0.839516  0.871170\n",
       "7  0.893667   0.898251  0.855413  0.876309\n",
       "8  0.882000   0.884127  0.842663  0.862897\n",
       "9  0.886667   0.887224  0.850983  0.868726"
      ]
     },
     "execution_count": 26,
     "metadata": {},
     "output_type": "execute_result"
    }
   ],
   "source": [
    "classifierEst_5 = regGridSearch.best_estimator_\n",
    "\n",
    "EvaluateClassifierEstimator(classifierEst_5, model_satisfied_x, model_satisfied_y, cv)"
   ]
  },
  {
   "cell_type": "markdown",
   "id": "f347c4c7",
   "metadata": {},
   "source": [
    "### B. Cleanliness Classification Models\n",
    "\n",
    "All the models for Cleanliness classification follow the same approach in GridSearchCV parameter as discussed for the Satisfaction classification.\n",
    "\n",
    "##### Logistic Regression"
   ]
  },
  {
   "cell_type": "code",
   "execution_count": 27,
   "id": "884d83ce",
   "metadata": {},
   "outputs": [
    {
     "name": "stdout",
     "output_type": "stream",
     "text": [
      "Fitting 10 folds for each of 112 candidates, totalling 1120 fits\n"
     ]
    },
    {
     "name": "stderr",
     "output_type": "stream",
     "text": [
      "[Parallel(n_jobs=7)]: Using backend LokyBackend with 7 concurrent workers.\n",
      "[Parallel(n_jobs=7)]: Done  36 tasks      | elapsed:   27.2s\n",
      "[Parallel(n_jobs=7)]: Done 186 tasks      | elapsed:  2.0min\n",
      "[Parallel(n_jobs=7)]: Done 436 tasks      | elapsed:  4.7min\n",
      "[Parallel(n_jobs=7)]: Done 786 tasks      | elapsed:  8.4min\n",
      "[Parallel(n_jobs=7)]: Done 1120 out of 1120 | elapsed: 12.1min finished\n"
     ]
    },
    {
     "data": {
      "text/plain": [
       "GridSearchCV(cv=StratifiedKFold(n_splits=10, random_state=5, shuffle=True),\n",
       "             estimator=Pipeline(steps=[('scale', StandardScaler()),\n",
       "                                       ('PCA', PCA(n_components=23)),\n",
       "                                       ('clf', LogisticRegression())]),\n",
       "             n_jobs=7,\n",
       "             param_grid={'clf__C': [0.001, 0.01, 0.1, 1, 10, 100, 1000],\n",
       "                         'clf__class_weight': ['balanced', 'none'],\n",
       "                         'clf__max_iter': [100, 500],\n",
       "                         'clf__penalty': ['l2', 'l1'], 'clf__random_state': [5],\n",
       "                         'clf__solver': ['liblinear', 'saga']},\n",
       "             scoring='accuracy', verbose=1)"
      ]
     },
     "execution_count": 27,
     "metadata": {},
     "output_type": "execute_result"
    }
   ],
   "source": [
    "\n",
    "regEstimator = LogisticRegression()\n",
    "\n",
    "pipeline = Pipeline([\n",
    "    ('scale', scl),\n",
    "    ('PCA',PCA(n_components=23, svd_solver='auto')),\n",
    "    ('clf', regEstimator),\n",
    "])\n",
    "\n",
    "parameters = { 'clf__penalty':['l2','l1']\n",
    "              ,'clf__C': [0.001, 0.01, 0.1, 1, 10, 100, 1000]\n",
    "              ,'clf__class_weight': ['balanced','none']\n",
    "              ,'clf__random_state': [5]\n",
    "              ,'clf__solver': ['liblinear','saga']\n",
    "              ,'clf__max_iter':[100,500]\n",
    "             }\n",
    "\n",
    "regGridSearch = GridSearchCV(pipeline, param_grid=parameters, cv=cv, n_jobs=7, verbose=1, scoring='accuracy')\n",
    "\n",
    "regGridSearch.fit(X_b, y_b)"
   ]
  },
  {
   "cell_type": "code",
   "execution_count": 28,
   "id": "d1b4d34c",
   "metadata": {},
   "outputs": [
    {
     "data": {
      "text/plain": [
       "Pipeline(steps=[('scale', StandardScaler()), ('PCA', PCA(n_components=23)),\n",
       "                ('clf',\n",
       "                 LogisticRegression(C=0.001, class_weight='none', penalty='l1',\n",
       "                                    random_state=5, solver='saga'))])"
      ]
     },
     "execution_count": 28,
     "metadata": {},
     "output_type": "execute_result"
    }
   ],
   "source": [
    "regGridSearch.best_estimator_"
   ]
  },
  {
   "cell_type": "code",
   "execution_count": 29,
   "id": "06d8e70f",
   "metadata": {},
   "outputs": [
    {
     "name": "stdout",
     "output_type": "stream",
     "text": [
      "The average accuracy for all cv folds is: \t\t\t 0.90089\n",
      "The average precision for all cv folds is: \t\t\t 0.91009\n",
      "The average recall for all cv folds is: \t\t\t 0.95609\n",
      "The average F1 for all cv folds is: \t\t\t\t 0.932521\n",
      "*********************************************************\n",
      "Cross Validation Fold Mean Error Scores\n"
     ]
    },
    {
     "data": {
      "text/html": [
       "<div>\n",
       "<style scoped>\n",
       "    .dataframe tbody tr th:only-of-type {\n",
       "        vertical-align: middle;\n",
       "    }\n",
       "\n",
       "    .dataframe tbody tr th {\n",
       "        vertical-align: top;\n",
       "    }\n",
       "\n",
       "    .dataframe thead th {\n",
       "        text-align: right;\n",
       "    }\n",
       "</style>\n",
       "<table border=\"1\" class=\"dataframe\">\n",
       "  <thead>\n",
       "    <tr style=\"text-align: right;\">\n",
       "      <th></th>\n",
       "      <th>Accuracy</th>\n",
       "      <th>Precision</th>\n",
       "      <th>Recall</th>\n",
       "      <th>F1</th>\n",
       "    </tr>\n",
       "  </thead>\n",
       "  <tbody>\n",
       "    <tr>\n",
       "      <th>0</th>\n",
       "      <td>0.903622</td>\n",
       "      <td>0.911261</td>\n",
       "      <td>0.958814</td>\n",
       "      <td>0.934433</td>\n",
       "    </tr>\n",
       "    <tr>\n",
       "      <th>1</th>\n",
       "      <td>0.901691</td>\n",
       "      <td>0.911118</td>\n",
       "      <td>0.956011</td>\n",
       "      <td>0.933025</td>\n",
       "    </tr>\n",
       "    <tr>\n",
       "      <th>2</th>\n",
       "      <td>0.901151</td>\n",
       "      <td>0.909790</td>\n",
       "      <td>0.956873</td>\n",
       "      <td>0.932738</td>\n",
       "    </tr>\n",
       "    <tr>\n",
       "      <th>3</th>\n",
       "      <td>0.903159</td>\n",
       "      <td>0.913070</td>\n",
       "      <td>0.955795</td>\n",
       "      <td>0.933944</td>\n",
       "    </tr>\n",
       "    <tr>\n",
       "      <th>4</th>\n",
       "      <td>0.899992</td>\n",
       "      <td>0.911671</td>\n",
       "      <td>0.952663</td>\n",
       "      <td>0.931716</td>\n",
       "    </tr>\n",
       "    <tr>\n",
       "      <th>5</th>\n",
       "      <td>0.898525</td>\n",
       "      <td>0.906703</td>\n",
       "      <td>0.956761</td>\n",
       "      <td>0.931060</td>\n",
       "    </tr>\n",
       "    <tr>\n",
       "      <th>6</th>\n",
       "      <td>0.900070</td>\n",
       "      <td>0.907559</td>\n",
       "      <td>0.958055</td>\n",
       "      <td>0.932123</td>\n",
       "    </tr>\n",
       "    <tr>\n",
       "      <th>7</th>\n",
       "      <td>0.897899</td>\n",
       "      <td>0.909306</td>\n",
       "      <td>0.952448</td>\n",
       "      <td>0.930377</td>\n",
       "    </tr>\n",
       "    <tr>\n",
       "      <th>8</th>\n",
       "      <td>0.900680</td>\n",
       "      <td>0.909557</td>\n",
       "      <td>0.956437</td>\n",
       "      <td>0.932408</td>\n",
       "    </tr>\n",
       "    <tr>\n",
       "      <th>9</th>\n",
       "      <td>0.902147</td>\n",
       "      <td>0.910826</td>\n",
       "      <td>0.957084</td>\n",
       "      <td>0.933382</td>\n",
       "    </tr>\n",
       "  </tbody>\n",
       "</table>\n",
       "</div>"
      ],
      "text/plain": [
       "   Accuracy  Precision    Recall        F1\n",
       "0  0.903622   0.911261  0.958814  0.934433\n",
       "1  0.901691   0.911118  0.956011  0.933025\n",
       "2  0.901151   0.909790  0.956873  0.932738\n",
       "3  0.903159   0.913070  0.955795  0.933944\n",
       "4  0.899992   0.911671  0.952663  0.931716\n",
       "5  0.898525   0.906703  0.956761  0.931060\n",
       "6  0.900070   0.907559  0.958055  0.932123\n",
       "7  0.897899   0.909306  0.952448  0.930377\n",
       "8  0.900680   0.909557  0.956437  0.932408\n",
       "9  0.902147   0.910826  0.957084  0.933382"
      ]
     },
     "execution_count": 29,
     "metadata": {},
     "output_type": "execute_result"
    }
   ],
   "source": [
    "classifierEst_6 = regGridSearch.best_estimator_\n",
    "\n",
    "EvaluateClassifierEstimator(classifierEst_6, X_b, y_b, cv)"
   ]
  },
  {
   "cell_type": "markdown",
   "id": "17c6e7f3",
   "metadata": {},
   "source": [
    "##### Random Forest"
   ]
  },
  {
   "cell_type": "code",
   "execution_count": 30,
   "id": "05f8fa24",
   "metadata": {},
   "outputs": [
    {
     "name": "stdout",
     "output_type": "stream",
     "text": [
      "Fitting 10 folds for each of 36 candidates, totalling 360 fits\n"
     ]
    },
    {
     "name": "stderr",
     "output_type": "stream",
     "text": [
      "[Parallel(n_jobs=7)]: Using backend LokyBackend with 7 concurrent workers.\n",
      "[Parallel(n_jobs=7)]: Done  36 tasks      | elapsed:  1.9min\n",
      "[Parallel(n_jobs=7)]: Done 186 tasks      | elapsed: 13.6min\n",
      "[Parallel(n_jobs=7)]: Done 360 out of 360 | elapsed: 14.4min finished\n"
     ]
    },
    {
     "data": {
      "text/plain": [
       "GridSearchCV(cv=StratifiedKFold(n_splits=10, random_state=5, shuffle=True),\n",
       "             estimator=Pipeline(steps=[('scale', StandardScaler()),\n",
       "                                       ('PCA', PCA(n_components=23)),\n",
       "                                       ('clf', RandomForestClassifier())]),\n",
       "             n_jobs=7,\n",
       "             param_grid={'clf__class_weight': ['balanced', 'none'],\n",
       "                         'clf__criterion': ['gini', 'entropy'],\n",
       "                         'clf__max_depth': [10, 20, 50],\n",
       "                         'clf__n_estimators': [100, 150, 200],\n",
       "                         'clf__random_state': [5]},\n",
       "             scoring='accuracy', verbose=1)"
      ]
     },
     "execution_count": 30,
     "metadata": {},
     "output_type": "execute_result"
    }
   ],
   "source": [
    "\n",
    "regEstimator = RandomForestClassifier()\n",
    "\n",
    "pipeline = Pipeline([\n",
    "    ('scale', scl),\n",
    "    ('PCA',PCA(n_components=23, svd_solver='auto')),\n",
    "    ('clf', regEstimator),\n",
    "])\n",
    "\n",
    "parameters = {'clf__criterion': ['gini','entropy']\n",
    "              ,'clf__random_state': [5]\n",
    "              ,'clf__max_depth': [10,20,50]\n",
    "              ,'clf__n_estimators':[100,150,200]\n",
    "              ,'clf__class_weight':['balanced','none']\n",
    "             }\n",
    "\n",
    "regGridSearch = GridSearchCV(pipeline, param_grid=parameters, cv=cv, n_jobs=7, verbose=1, scoring='accuracy')\n",
    "\n",
    "\n",
    "regGridSearch.fit(model_clean_x, model_clean_y)"
   ]
  },
  {
   "cell_type": "code",
   "execution_count": 31,
   "id": "b36a491a",
   "metadata": {},
   "outputs": [
    {
     "data": {
      "text/plain": [
       "Pipeline(steps=[('scale', StandardScaler()), ('PCA', PCA(n_components=23)),\n",
       "                ('clf',\n",
       "                 RandomForestClassifier(class_weight='balanced', max_depth=20,\n",
       "                                        n_estimators=200, random_state=5))])"
      ]
     },
     "execution_count": 31,
     "metadata": {},
     "output_type": "execute_result"
    }
   ],
   "source": [
    "regGridSearch.best_estimator_"
   ]
  },
  {
   "cell_type": "code",
   "execution_count": 32,
   "id": "4a00e6d8",
   "metadata": {},
   "outputs": [
    {
     "name": "stdout",
     "output_type": "stream",
     "text": [
      "The average accuracy for all cv folds is: \t\t\t 0.90426\n",
      "The average precision for all cv folds is: \t\t\t 0.92179\n",
      "The average recall for all cv folds is: \t\t\t 0.94666\n",
      "The average F1 for all cv folds is: \t\t\t\t 0.934054\n",
      "*********************************************************\n",
      "Cross Validation Fold Mean Error Scores\n"
     ]
    },
    {
     "data": {
      "text/html": [
       "<div>\n",
       "<style scoped>\n",
       "    .dataframe tbody tr th:only-of-type {\n",
       "        vertical-align: middle;\n",
       "    }\n",
       "\n",
       "    .dataframe tbody tr th {\n",
       "        vertical-align: top;\n",
       "    }\n",
       "\n",
       "    .dataframe thead th {\n",
       "        text-align: right;\n",
       "    }\n",
       "</style>\n",
       "<table border=\"1\" class=\"dataframe\">\n",
       "  <thead>\n",
       "    <tr style=\"text-align: right;\">\n",
       "      <th></th>\n",
       "      <th>Accuracy</th>\n",
       "      <th>Precision</th>\n",
       "      <th>Recall</th>\n",
       "      <th>F1</th>\n",
       "    </tr>\n",
       "  </thead>\n",
       "  <tbody>\n",
       "    <tr>\n",
       "      <th>0</th>\n",
       "      <td>0.905784</td>\n",
       "      <td>0.921243</td>\n",
       "      <td>0.949650</td>\n",
       "      <td>0.935230</td>\n",
       "    </tr>\n",
       "    <tr>\n",
       "      <th>1</th>\n",
       "      <td>0.907869</td>\n",
       "      <td>0.924297</td>\n",
       "      <td>0.949111</td>\n",
       "      <td>0.936539</td>\n",
       "    </tr>\n",
       "    <tr>\n",
       "      <th>2</th>\n",
       "      <td>0.904626</td>\n",
       "      <td>0.921384</td>\n",
       "      <td>0.947709</td>\n",
       "      <td>0.934361</td>\n",
       "    </tr>\n",
       "    <tr>\n",
       "      <th>3</th>\n",
       "      <td>0.904549</td>\n",
       "      <td>0.923506</td>\n",
       "      <td>0.945013</td>\n",
       "      <td>0.934136</td>\n",
       "    </tr>\n",
       "    <tr>\n",
       "      <th>4</th>\n",
       "      <td>0.902464</td>\n",
       "      <td>0.922833</td>\n",
       "      <td>0.942635</td>\n",
       "      <td>0.932629</td>\n",
       "    </tr>\n",
       "    <tr>\n",
       "      <th>5</th>\n",
       "      <td>0.903081</td>\n",
       "      <td>0.917700</td>\n",
       "      <td>0.949860</td>\n",
       "      <td>0.933503</td>\n",
       "    </tr>\n",
       "    <tr>\n",
       "      <th>6</th>\n",
       "      <td>0.903236</td>\n",
       "      <td>0.918589</td>\n",
       "      <td>0.948997</td>\n",
       "      <td>0.933545</td>\n",
       "    </tr>\n",
       "    <tr>\n",
       "      <th>7</th>\n",
       "      <td>0.900834</td>\n",
       "      <td>0.921948</td>\n",
       "      <td>0.941234</td>\n",
       "      <td>0.931491</td>\n",
       "    </tr>\n",
       "    <tr>\n",
       "      <th>8</th>\n",
       "      <td>0.904310</td>\n",
       "      <td>0.922761</td>\n",
       "      <td>0.945547</td>\n",
       "      <td>0.934015</td>\n",
       "    </tr>\n",
       "    <tr>\n",
       "      <th>9</th>\n",
       "      <td>0.905854</td>\n",
       "      <td>0.923635</td>\n",
       "      <td>0.946841</td>\n",
       "      <td>0.935094</td>\n",
       "    </tr>\n",
       "  </tbody>\n",
       "</table>\n",
       "</div>"
      ],
      "text/plain": [
       "   Accuracy  Precision    Recall        F1\n",
       "0  0.905784   0.921243  0.949650  0.935230\n",
       "1  0.907869   0.924297  0.949111  0.936539\n",
       "2  0.904626   0.921384  0.947709  0.934361\n",
       "3  0.904549   0.923506  0.945013  0.934136\n",
       "4  0.902464   0.922833  0.942635  0.932629\n",
       "5  0.903081   0.917700  0.949860  0.933503\n",
       "6  0.903236   0.918589  0.948997  0.933545\n",
       "7  0.900834   0.921948  0.941234  0.931491\n",
       "8  0.904310   0.922761  0.945547  0.934015\n",
       "9  0.905854   0.923635  0.946841  0.935094"
      ]
     },
     "execution_count": 32,
     "metadata": {},
     "output_type": "execute_result"
    }
   ],
   "source": [
    "classifierEst_8 = regGridSearch.best_estimator_\n",
    "\n",
    "EvaluateClassifierEstimator(classifierEst_8, X_b, y_b, cv)"
   ]
  },
  {
   "cell_type": "markdown",
   "id": "a7320524",
   "metadata": {},
   "source": [
    "##### Support Vector Machine"
   ]
  },
  {
   "cell_type": "code",
   "execution_count": 33,
   "id": "76e74b45",
   "metadata": {},
   "outputs": [
    {
     "name": "stdout",
     "output_type": "stream",
     "text": [
      "Fitting 10 folds for each of 36 candidates, totalling 360 fits\n"
     ]
    },
    {
     "name": "stderr",
     "output_type": "stream",
     "text": [
      "[Parallel(n_jobs=7)]: Using backend LokyBackend with 7 concurrent workers.\n",
      "[Parallel(n_jobs=7)]: Done  36 tasks      | elapsed:  6.8min\n",
      "[Parallel(n_jobs=7)]: Done 186 tasks      | elapsed: 29.5min\n",
      "[Parallel(n_jobs=7)]: Done 360 out of 360 | elapsed: 75.6min finished\n"
     ]
    },
    {
     "data": {
      "text/plain": [
       "GridSearchCV(cv=StratifiedKFold(n_splits=10, random_state=5, shuffle=True),\n",
       "             estimator=Pipeline(steps=[('scale', StandardScaler()),\n",
       "                                       ('PCA', PCA(n_components=23)),\n",
       "                                       ('clf', SVC())]),\n",
       "             n_jobs=7,\n",
       "             param_grid={'clf__C': [0.001, 0.01, 0.1, 1, 10, 100],\n",
       "                         'clf__degree': [3],\n",
       "                         'clf__gamma': ['scale', 'auto', 1, 0.1, 0.01, 0.001],\n",
       "                         'clf__kernel': ['rbf'], 'clf__random_state': [5]},\n",
       "             scoring='accuracy', verbose=1)"
      ]
     },
     "execution_count": 33,
     "metadata": {},
     "output_type": "execute_result"
    }
   ],
   "source": [
    "\n",
    "regEstimator = SVC()\n",
    "\n",
    "pipeline = Pipeline([\n",
    "    ('scale', scl),\n",
    "    ('PCA',PCA(n_components=23, svd_solver='auto')),\n",
    "    ('clf', regEstimator),\n",
    "])\n",
    "\n",
    "parameters = {'clf__C': [0.001, 0.01, 0.1, 1, 10, 100], \n",
    "              'clf__gamma': ['scale', 'auto', 1, 0.1, 0.01, 0.001],\n",
    "              'clf__kernel':['rbf'], \n",
    "              'clf__degree':[3],\n",
    "              'clf__random_state':[5],\n",
    "             }\n",
    "\n",
    "regGridSearch = GridSearchCV(pipeline, param_grid=parameters, cv=cv, n_jobs=7, verbose=1, scoring='accuracy')\n",
    "\n",
    "\n",
    "regGridSearch.fit(model_clean_x, model_clean_y)"
   ]
  },
  {
   "cell_type": "code",
   "execution_count": 34,
   "id": "1b5ab08e",
   "metadata": {},
   "outputs": [
    {
     "data": {
      "text/plain": [
       "Pipeline(steps=[('scale', StandardScaler()), ('PCA', PCA(n_components=23)),\n",
       "                ('clf', SVC(C=10, gamma=0.01, random_state=5))])"
      ]
     },
     "execution_count": 34,
     "metadata": {},
     "output_type": "execute_result"
    }
   ],
   "source": [
    "regGridSearch.best_estimator_"
   ]
  },
  {
   "cell_type": "code",
   "execution_count": 35,
   "id": "9d6c453f",
   "metadata": {},
   "outputs": [
    {
     "name": "stdout",
     "output_type": "stream",
     "text": [
      "The average accuracy for all cv folds is: \t\t\t 0.91453\n",
      "The average precision for all cv folds is: \t\t\t 0.91616\n",
      "The average recall for all cv folds is: \t\t\t 0.96948\n",
      "The average F1 for all cv folds is: \t\t\t\t 0.942048\n",
      "*********************************************************\n",
      "Cross Validation Fold Mean Error Scores\n"
     ]
    },
    {
     "data": {
      "text/html": [
       "<div>\n",
       "<style scoped>\n",
       "    .dataframe tbody tr th:only-of-type {\n",
       "        vertical-align: middle;\n",
       "    }\n",
       "\n",
       "    .dataframe tbody tr th {\n",
       "        vertical-align: top;\n",
       "    }\n",
       "\n",
       "    .dataframe thead th {\n",
       "        text-align: right;\n",
       "    }\n",
       "</style>\n",
       "<table border=\"1\" class=\"dataframe\">\n",
       "  <thead>\n",
       "    <tr style=\"text-align: right;\">\n",
       "      <th></th>\n",
       "      <th>Accuracy</th>\n",
       "      <th>Precision</th>\n",
       "      <th>Recall</th>\n",
       "      <th>F1</th>\n",
       "    </tr>\n",
       "  </thead>\n",
       "  <tbody>\n",
       "    <tr>\n",
       "      <th>0</th>\n",
       "      <td>0.916333</td>\n",
       "      <td>0.915173</td>\n",
       "      <td>0.973488</td>\n",
       "      <td>0.943430</td>\n",
       "    </tr>\n",
       "    <tr>\n",
       "      <th>1</th>\n",
       "      <td>0.914667</td>\n",
       "      <td>0.911739</td>\n",
       "      <td>0.975349</td>\n",
       "      <td>0.942472</td>\n",
       "    </tr>\n",
       "    <tr>\n",
       "      <th>2</th>\n",
       "      <td>0.920667</td>\n",
       "      <td>0.917467</td>\n",
       "      <td>0.977209</td>\n",
       "      <td>0.946396</td>\n",
       "    </tr>\n",
       "    <tr>\n",
       "      <th>3</th>\n",
       "      <td>0.910000</td>\n",
       "      <td>0.912643</td>\n",
       "      <td>0.966977</td>\n",
       "      <td>0.939024</td>\n",
       "    </tr>\n",
       "    <tr>\n",
       "      <th>4</th>\n",
       "      <td>0.914333</td>\n",
       "      <td>0.919362</td>\n",
       "      <td>0.965116</td>\n",
       "      <td>0.941684</td>\n",
       "    </tr>\n",
       "    <tr>\n",
       "      <th>5</th>\n",
       "      <td>0.913333</td>\n",
       "      <td>0.915896</td>\n",
       "      <td>0.967892</td>\n",
       "      <td>0.941176</td>\n",
       "    </tr>\n",
       "    <tr>\n",
       "      <th>6</th>\n",
       "      <td>0.920667</td>\n",
       "      <td>0.928668</td>\n",
       "      <td>0.963239</td>\n",
       "      <td>0.945637</td>\n",
       "    </tr>\n",
       "    <tr>\n",
       "      <th>7</th>\n",
       "      <td>0.912000</td>\n",
       "      <td>0.914650</td>\n",
       "      <td>0.967427</td>\n",
       "      <td>0.940299</td>\n",
       "    </tr>\n",
       "    <tr>\n",
       "      <th>8</th>\n",
       "      <td>0.913667</td>\n",
       "      <td>0.915202</td>\n",
       "      <td>0.969288</td>\n",
       "      <td>0.941469</td>\n",
       "    </tr>\n",
       "    <tr>\n",
       "      <th>9</th>\n",
       "      <td>0.909667</td>\n",
       "      <td>0.910761</td>\n",
       "      <td>0.968823</td>\n",
       "      <td>0.938895</td>\n",
       "    </tr>\n",
       "  </tbody>\n",
       "</table>\n",
       "</div>"
      ],
      "text/plain": [
       "   Accuracy  Precision    Recall        F1\n",
       "0  0.916333   0.915173  0.973488  0.943430\n",
       "1  0.914667   0.911739  0.975349  0.942472\n",
       "2  0.920667   0.917467  0.977209  0.946396\n",
       "3  0.910000   0.912643  0.966977  0.939024\n",
       "4  0.914333   0.919362  0.965116  0.941684\n",
       "5  0.913333   0.915896  0.967892  0.941176\n",
       "6  0.920667   0.928668  0.963239  0.945637\n",
       "7  0.912000   0.914650  0.967427  0.940299\n",
       "8  0.913667   0.915202  0.969288  0.941469\n",
       "9  0.909667   0.910761  0.968823  0.938895"
      ]
     },
     "execution_count": 35,
     "metadata": {},
     "output_type": "execute_result"
    }
   ],
   "source": [
    "classifierEst_9 = regGridSearch.best_estimator_\n",
    "\n",
    "EvaluateClassifierEstimator(classifierEst_9, model_clean_x, model_clean_y, cv)"
   ]
  },
  {
   "cell_type": "markdown",
   "id": "0457a5c6",
   "metadata": {},
   "source": [
    "##### Decision Tree Model"
   ]
  },
  {
   "cell_type": "code",
   "execution_count": 36,
   "id": "0d99b6fa",
   "metadata": {},
   "outputs": [
    {
     "name": "stdout",
     "output_type": "stream",
     "text": [
      "Fitting 10 folds for each of 12 candidates, totalling 120 fits\n"
     ]
    },
    {
     "name": "stderr",
     "output_type": "stream",
     "text": [
      "[Parallel(n_jobs=7)]: Using backend LokyBackend with 7 concurrent workers.\n",
      "[Parallel(n_jobs=7)]: Done  36 tasks      | elapsed:  1.2min\n",
      "[Parallel(n_jobs=7)]: Done 120 out of 120 | elapsed:  2.4min finished\n"
     ]
    },
    {
     "data": {
      "text/plain": [
       "GridSearchCV(cv=StratifiedKFold(n_splits=10, random_state=5, shuffle=True),\n",
       "             estimator=Pipeline(steps=[('scale', StandardScaler()),\n",
       "                                       ('PCA', PCA(n_components=23)),\n",
       "                                       ('clf', DecisionTreeClassifier())]),\n",
       "             n_jobs=7,\n",
       "             param_grid={'clf__class_weight': ['balanced', 'none'],\n",
       "                         'clf__criterion': ['gini', 'entropy'],\n",
       "                         'clf__max_depth': [10, 20, 50],\n",
       "                         'clf__random_state': [5]},\n",
       "             scoring='accuracy', verbose=1)"
      ]
     },
     "execution_count": 36,
     "metadata": {},
     "output_type": "execute_result"
    }
   ],
   "source": [
    "\n",
    "regEstimator = DecisionTreeClassifier()\n",
    "\n",
    "pipeline = Pipeline([\n",
    "    ('scale', scl),\n",
    "    ('PCA',PCA(n_components=23, svd_solver='auto')),\n",
    "    ('clf', regEstimator),\n",
    "])\n",
    "\n",
    "parameters = {'clf__criterion': ['gini','entropy']\n",
    "              ,'clf__random_state': [5]\n",
    "              ,'clf__max_depth': [10,20,50]\n",
    "              ,'clf__class_weight':['balanced','none']}\n",
    "\n",
    "regGridSearch = GridSearchCV(pipeline, param_grid=parameters, cv=cv, n_jobs=7, verbose=1, scoring='accuracy')\n",
    "\n",
    "\n",
    "regGridSearch.fit(X_b, y_b)"
   ]
  },
  {
   "cell_type": "code",
   "execution_count": 37,
   "id": "49aecc46",
   "metadata": {},
   "outputs": [
    {
     "data": {
      "text/plain": [
       "Pipeline(steps=[('scale', StandardScaler()), ('PCA', PCA(n_components=23)),\n",
       "                ('clf',\n",
       "                 DecisionTreeClassifier(class_weight='balanced',\n",
       "                                        criterion='entropy', max_depth=50,\n",
       "                                        random_state=5))])"
      ]
     },
     "execution_count": 37,
     "metadata": {},
     "output_type": "execute_result"
    }
   ],
   "source": [
    "regGridSearch.best_estimator_"
   ]
  },
  {
   "cell_type": "code",
   "execution_count": 38,
   "id": "dfeaaa53",
   "metadata": {},
   "outputs": [
    {
     "name": "stdout",
     "output_type": "stream",
     "text": [
      "The average accuracy for all cv folds is: \t\t\t 0.87341\n",
      "The average precision for all cv folds is: \t\t\t 0.91196\n",
      "The average recall for all cv folds is: \t\t\t 0.91123\n",
      "The average F1 for all cv folds is: \t\t\t\t 0.911591\n",
      "*********************************************************\n",
      "Cross Validation Fold Mean Error Scores\n"
     ]
    },
    {
     "data": {
      "text/html": [
       "<div>\n",
       "<style scoped>\n",
       "    .dataframe tbody tr th:only-of-type {\n",
       "        vertical-align: middle;\n",
       "    }\n",
       "\n",
       "    .dataframe tbody tr th {\n",
       "        vertical-align: top;\n",
       "    }\n",
       "\n",
       "    .dataframe thead th {\n",
       "        text-align: right;\n",
       "    }\n",
       "</style>\n",
       "<table border=\"1\" class=\"dataframe\">\n",
       "  <thead>\n",
       "    <tr style=\"text-align: right;\">\n",
       "      <th></th>\n",
       "      <th>Accuracy</th>\n",
       "      <th>Precision</th>\n",
       "      <th>Recall</th>\n",
       "      <th>F1</th>\n",
       "    </tr>\n",
       "  </thead>\n",
       "  <tbody>\n",
       "    <tr>\n",
       "      <th>0</th>\n",
       "      <td>0.874739</td>\n",
       "      <td>0.909120</td>\n",
       "      <td>0.916765</td>\n",
       "      <td>0.912927</td>\n",
       "    </tr>\n",
       "    <tr>\n",
       "      <th>1</th>\n",
       "      <td>0.871419</td>\n",
       "      <td>0.912153</td>\n",
       "      <td>0.907925</td>\n",
       "      <td>0.910034</td>\n",
       "    </tr>\n",
       "    <tr>\n",
       "      <th>2</th>\n",
       "      <td>0.865858</td>\n",
       "      <td>0.907107</td>\n",
       "      <td>0.905445</td>\n",
       "      <td>0.906275</td>\n",
       "    </tr>\n",
       "    <tr>\n",
       "      <th>3</th>\n",
       "      <td>0.874353</td>\n",
       "      <td>0.912959</td>\n",
       "      <td>0.911482</td>\n",
       "      <td>0.912220</td>\n",
       "    </tr>\n",
       "    <tr>\n",
       "      <th>4</th>\n",
       "      <td>0.872577</td>\n",
       "      <td>0.915703</td>\n",
       "      <td>0.905435</td>\n",
       "      <td>0.910540</td>\n",
       "    </tr>\n",
       "    <tr>\n",
       "      <th>5</th>\n",
       "      <td>0.875512</td>\n",
       "      <td>0.912113</td>\n",
       "      <td>0.914276</td>\n",
       "      <td>0.913193</td>\n",
       "    </tr>\n",
       "    <tr>\n",
       "      <th>6</th>\n",
       "      <td>0.871573</td>\n",
       "      <td>0.909855</td>\n",
       "      <td>0.910934</td>\n",
       "      <td>0.910394</td>\n",
       "    </tr>\n",
       "    <tr>\n",
       "      <th>7</th>\n",
       "      <td>0.872490</td>\n",
       "      <td>0.911121</td>\n",
       "      <td>0.910826</td>\n",
       "      <td>0.910973</td>\n",
       "    </tr>\n",
       "    <tr>\n",
       "      <th>8</th>\n",
       "      <td>0.873803</td>\n",
       "      <td>0.911549</td>\n",
       "      <td>0.912336</td>\n",
       "      <td>0.911942</td>\n",
       "    </tr>\n",
       "    <tr>\n",
       "      <th>9</th>\n",
       "      <td>0.881758</td>\n",
       "      <td>0.917953</td>\n",
       "      <td>0.916864</td>\n",
       "      <td>0.917408</td>\n",
       "    </tr>\n",
       "  </tbody>\n",
       "</table>\n",
       "</div>"
      ],
      "text/plain": [
       "   Accuracy  Precision    Recall        F1\n",
       "0  0.874739   0.909120  0.916765  0.912927\n",
       "1  0.871419   0.912153  0.907925  0.910034\n",
       "2  0.865858   0.907107  0.905445  0.906275\n",
       "3  0.874353   0.912959  0.911482  0.912220\n",
       "4  0.872577   0.915703  0.905435  0.910540\n",
       "5  0.875512   0.912113  0.914276  0.913193\n",
       "6  0.871573   0.909855  0.910934  0.910394\n",
       "7  0.872490   0.911121  0.910826  0.910973\n",
       "8  0.873803   0.911549  0.912336  0.911942\n",
       "9  0.881758   0.917953  0.916864  0.917408"
      ]
     },
     "execution_count": 38,
     "metadata": {},
     "output_type": "execute_result"
    }
   ],
   "source": [
    "classifierEst_10 = regGridSearch.best_estimator_\n",
    "EvaluateClassifierEstimator(classifierEst_10, X_b, y_b, cv)"
   ]
  },
  {
   "cell_type": "markdown",
   "id": "2a419233",
   "metadata": {},
   "source": [
    "________________________________________"
   ]
  },
  {
   "cell_type": "markdown",
   "id": "cdc96995",
   "metadata": {},
   "source": [
    "## Neural Network Classifier\n",
    "\n",
    "In addition to the logistic regression, random forest, support vector machine and decision tree models that were done for flight satisfaction and cleanliness, a neural network classifier was used in an attempt to maximize model accuracy. The model used is from the sklearn.neural_network module. In the code below we will utilize MLPClassifier() the Multi-layer Perceptron classifier.  This model works by optimizing the log-loss function using LBFGS or stochastic gradient descent.  In addition, the model trains iteratively.  MLPClassifier relies on an underlying Neural Network to perform classification tasks. \n",
    "\n",
    "The code below shows the steps to hypertune a neural network MLPClassifier using gridsearchCV, as well as the results of a 10-fold cross validation for accuracy, precision，recall and F1 score.  The results of the model as well as its comparison against the 4 previous model will be explored in the subsequent sections of the report.\n",
    "\n",
    "\n",
    "We listed the following parameters in our grid search for us to adjust by using our chosen metric to increase generalization performance.\n",
    "\n",
    "\n",
    "We list all possible solvers to tune our model, the solvers we use are lbfgs’, ‘sgd’ and ‘adam’. ‘lbfgs’ is an optimizer in the family of quasi-Newton methods. ‘sgd’ refers to stochastic gradient descent and ‘adam’ refers to a different stochastic gradient-based optimizer proposed by a group of people.\n",
    "\n",
    "\n",
    "We also list different values of alpha to tune L2 regularization parameter and two options of learning rate: 'constant' and 'invscaling'.\n",
    "\n",
    "\n",
    "The maximum literation are set to 200 and 500.\n"
   ]
  },
  {
   "cell_type": "markdown",
   "id": "b84ee2e3",
   "metadata": {},
   "source": [
    "### Neural Network Classifier for Satisfaction classification"
   ]
  },
  {
   "cell_type": "code",
   "execution_count": 39,
   "id": "6914c5eb",
   "metadata": {},
   "outputs": [
    {
     "name": "stdout",
     "output_type": "stream",
     "text": [
      "Fitting 10 folds for each of 60 candidates, totalling 600 fits\n"
     ]
    },
    {
     "name": "stderr",
     "output_type": "stream",
     "text": [
      "[Parallel(n_jobs=7)]: Using backend LokyBackend with 7 concurrent workers.\n",
      "[Parallel(n_jobs=7)]: Done  36 tasks      | elapsed:  6.1min\n",
      "[Parallel(n_jobs=7)]: Done 186 tasks      | elapsed: 27.0min\n",
      "[Parallel(n_jobs=7)]: Done 436 tasks      | elapsed: 48.1min\n",
      "[Parallel(n_jobs=7)]: Done 600 out of 600 | elapsed: 56.2min finished\n"
     ]
    },
    {
     "data": {
      "text/plain": [
       "GridSearchCV(cv=StratifiedKFold(n_splits=10, random_state=5, shuffle=True),\n",
       "             estimator=Pipeline(steps=[('scale', StandardScaler()),\n",
       "                                       ('PCA', PCA(n_components=23)),\n",
       "                                       ('clf', MLPClassifier())]),\n",
       "             n_jobs=7,\n",
       "             param_grid={'clf__alpha': [0.01, 1, 10, 100, 1000],\n",
       "                         'clf__learning_rate': ['constant', 'invscaling'],\n",
       "                         'clf__max_iter': [200, 500], 'clf__random_state': [5],\n",
       "                         'clf__solver': ['lbfgs', 'sgd', 'adam']},\n",
       "             scoring='accuracy', verbose=1)"
      ]
     },
     "execution_count": 39,
     "metadata": {},
     "output_type": "execute_result"
    }
   ],
   "source": [
    "regEstimator = MLPClassifier()\n",
    "\n",
    "pipeline = Pipeline([\n",
    "    ('scale', scl),\n",
    "    ('PCA',PCA(n_components=23, svd_solver='auto')),\n",
    "    ('clf', regEstimator),\\\n",
    "])\n",
    "\n",
    "parameters = { 'clf__alpha': [0.01, 1, 10, 100, 1000]\n",
    "              ,'clf__random_state': [5]\n",
    "              ,'clf__solver': ['lbfgs','sgd', 'adam']\n",
    "              ,'clf__learning_rate':['constant', 'invscaling']\n",
    "              ,'clf__max_iter':[200,500]\n",
    "             }\n",
    "\n",
    "regGridSearch = GridSearchCV(pipeline, param_grid=parameters, cv=cv, n_jobs=7, verbose=1, scoring='accuracy')\n",
    "\n",
    "regGridSearch.fit(model_satisfied_x, model_satisfied_y)"
   ]
  },
  {
   "cell_type": "code",
   "execution_count": 40,
   "id": "2197f997",
   "metadata": {},
   "outputs": [
    {
     "data": {
      "text/plain": [
       "Pipeline(steps=[('scale', StandardScaler()), ('PCA', PCA(n_components=23)),\n",
       "                ('clf',\n",
       "                 MLPClassifier(alpha=10, random_state=5, solver='lbfgs'))])"
      ]
     },
     "execution_count": 40,
     "metadata": {},
     "output_type": "execute_result"
    }
   ],
   "source": [
    "regGridSearch.best_estimator_"
   ]
  },
  {
   "cell_type": "code",
   "execution_count": 41,
   "id": "ffe242f5",
   "metadata": {},
   "outputs": [
    {
     "name": "stdout",
     "output_type": "stream",
     "text": [
      "The average accuracy for all cv folds is: \t\t\t 0.94999\n",
      "The average precision for all cv folds is: \t\t\t 0.95445\n",
      "The average recall for all cv folds is: \t\t\t 0.92928\n",
      "The average F1 for all cv folds is: \t\t\t\t 0.941686\n",
      "*********************************************************\n",
      "Cross Validation Fold Mean Error Scores\n"
     ]
    },
    {
     "data": {
      "text/html": [
       "<div>\n",
       "<style scoped>\n",
       "    .dataframe tbody tr th:only-of-type {\n",
       "        vertical-align: middle;\n",
       "    }\n",
       "\n",
       "    .dataframe tbody tr th {\n",
       "        vertical-align: top;\n",
       "    }\n",
       "\n",
       "    .dataframe thead th {\n",
       "        text-align: right;\n",
       "    }\n",
       "</style>\n",
       "<table border=\"1\" class=\"dataframe\">\n",
       "  <thead>\n",
       "    <tr style=\"text-align: right;\">\n",
       "      <th></th>\n",
       "      <th>Accuracy</th>\n",
       "      <th>Precision</th>\n",
       "      <th>Recall</th>\n",
       "      <th>F1</th>\n",
       "    </tr>\n",
       "  </thead>\n",
       "  <tbody>\n",
       "    <tr>\n",
       "      <th>0</th>\n",
       "      <td>0.951656</td>\n",
       "      <td>0.956538</td>\n",
       "      <td>0.931034</td>\n",
       "      <td>0.943614</td>\n",
       "    </tr>\n",
       "    <tr>\n",
       "      <th>1</th>\n",
       "      <td>0.952043</td>\n",
       "      <td>0.956244</td>\n",
       "      <td>0.932279</td>\n",
       "      <td>0.944109</td>\n",
       "    </tr>\n",
       "    <tr>\n",
       "      <th>2</th>\n",
       "      <td>0.947486</td>\n",
       "      <td>0.948495</td>\n",
       "      <td>0.929613</td>\n",
       "      <td>0.938959</td>\n",
       "    </tr>\n",
       "    <tr>\n",
       "      <th>3</th>\n",
       "      <td>0.950961</td>\n",
       "      <td>0.953480</td>\n",
       "      <td>0.932634</td>\n",
       "      <td>0.942942</td>\n",
       "    </tr>\n",
       "    <tr>\n",
       "      <th>4</th>\n",
       "      <td>0.949726</td>\n",
       "      <td>0.957850</td>\n",
       "      <td>0.924991</td>\n",
       "      <td>0.941134</td>\n",
       "    </tr>\n",
       "    <tr>\n",
       "      <th>5</th>\n",
       "      <td>0.948259</td>\n",
       "      <td>0.953522</td>\n",
       "      <td>0.926071</td>\n",
       "      <td>0.939596</td>\n",
       "    </tr>\n",
       "    <tr>\n",
       "      <th>6</th>\n",
       "      <td>0.948799</td>\n",
       "      <td>0.957934</td>\n",
       "      <td>0.922694</td>\n",
       "      <td>0.939984</td>\n",
       "    </tr>\n",
       "    <tr>\n",
       "      <th>7</th>\n",
       "      <td>0.949490</td>\n",
       "      <td>0.954147</td>\n",
       "      <td>0.928368</td>\n",
       "      <td>0.941081</td>\n",
       "    </tr>\n",
       "    <tr>\n",
       "      <th>8</th>\n",
       "      <td>0.953197</td>\n",
       "      <td>0.955040</td>\n",
       "      <td>0.936367</td>\n",
       "      <td>0.945611</td>\n",
       "    </tr>\n",
       "    <tr>\n",
       "      <th>9</th>\n",
       "      <td>0.948332</td>\n",
       "      <td>0.951211</td>\n",
       "      <td>0.928724</td>\n",
       "      <td>0.939833</td>\n",
       "    </tr>\n",
       "  </tbody>\n",
       "</table>\n",
       "</div>"
      ],
      "text/plain": [
       "   Accuracy  Precision    Recall        F1\n",
       "0  0.951656   0.956538  0.931034  0.943614\n",
       "1  0.952043   0.956244  0.932279  0.944109\n",
       "2  0.947486   0.948495  0.929613  0.938959\n",
       "3  0.950961   0.953480  0.932634  0.942942\n",
       "4  0.949726   0.957850  0.924991  0.941134\n",
       "5  0.948259   0.953522  0.926071  0.939596\n",
       "6  0.948799   0.957934  0.922694  0.939984\n",
       "7  0.949490   0.954147  0.928368  0.941081\n",
       "8  0.953197   0.955040  0.936367  0.945611\n",
       "9  0.948332   0.951211  0.928724  0.939833"
      ]
     },
     "execution_count": 41,
     "metadata": {},
     "output_type": "execute_result"
    }
   ],
   "source": [
    "classifierEst_2 = regGridSearch.best_estimator_\n",
    "\n",
    "EvaluateClassifierEstimator(classifierEst_2, X_a, y_a, cv)"
   ]
  },
  {
   "cell_type": "markdown",
   "id": "074e7fa7",
   "metadata": {},
   "source": [
    "### Neural Network Classifier for Cleanliness classification"
   ]
  },
  {
   "cell_type": "code",
   "execution_count": 42,
   "id": "898e78bb",
   "metadata": {},
   "outputs": [
    {
     "name": "stdout",
     "output_type": "stream",
     "text": [
      "Fitting 10 folds for each of 60 candidates, totalling 600 fits\n"
     ]
    },
    {
     "name": "stderr",
     "output_type": "stream",
     "text": [
      "[Parallel(n_jobs=7)]: Using backend LokyBackend with 7 concurrent workers.\n",
      "[Parallel(n_jobs=7)]: Done  36 tasks      | elapsed:  6.1min\n",
      "[Parallel(n_jobs=7)]: Done 186 tasks      | elapsed: 25.7min\n",
      "[Parallel(n_jobs=7)]: Done 436 tasks      | elapsed: 46.1min\n",
      "[Parallel(n_jobs=7)]: Done 600 out of 600 | elapsed: 54.5min finished\n"
     ]
    },
    {
     "data": {
      "text/plain": [
       "GridSearchCV(cv=StratifiedKFold(n_splits=10, random_state=5, shuffle=True),\n",
       "             estimator=Pipeline(steps=[('scale', StandardScaler()),\n",
       "                                       ('PCA', PCA(n_components=23)),\n",
       "                                       ('clf', MLPClassifier())]),\n",
       "             n_jobs=7,\n",
       "             param_grid={'clf__alpha': [0.01, 1, 10, 100, 1000],\n",
       "                         'clf__learning_rate': ['constant', 'invscaling'],\n",
       "                         'clf__max_iter': [200, 500], 'clf__random_state': [5],\n",
       "                         'clf__solver': ['lbfgs', 'sgd', 'adam']},\n",
       "             scoring='accuracy', verbose=1)"
      ]
     },
     "execution_count": 42,
     "metadata": {},
     "output_type": "execute_result"
    }
   ],
   "source": [
    "regEstimator = MLPClassifier()\n",
    "\n",
    "pipeline = Pipeline([\n",
    "    ('scale', scl),\n",
    "    ('PCA',PCA(n_components=23, svd_solver='auto')),\n",
    "    ('clf', regEstimator),\\\n",
    "])\n",
    "\n",
    "parameters = { 'clf__alpha': [0.01, 1, 10, 100, 1000]\n",
    "              ,'clf__random_state': [5]\n",
    "              ,'clf__solver': ['lbfgs','sgd', 'adam']\n",
    "              ,'clf__learning_rate':['constant', 'invscaling']\n",
    "              ,'clf__max_iter':[200,500]\n",
    "             }\n",
    "\n",
    "regGridSearch = GridSearchCV(pipeline, param_grid=parameters, cv=cv, n_jobs=7, verbose=1, scoring='accuracy')\n",
    "\n",
    "regGridSearch.fit(model_clean_x, model_clean_y)"
   ]
  },
  {
   "cell_type": "code",
   "execution_count": 43,
   "id": "16d8612c",
   "metadata": {},
   "outputs": [
    {
     "data": {
      "text/plain": [
       "Pipeline(steps=[('scale', StandardScaler()), ('PCA', PCA(n_components=23)),\n",
       "                ('clf',\n",
       "                 MLPClassifier(alpha=10, max_iter=500, random_state=5,\n",
       "                               solver='lbfgs'))])"
      ]
     },
     "execution_count": 43,
     "metadata": {},
     "output_type": "execute_result"
    }
   ],
   "source": [
    "regGridSearch.best_estimator_"
   ]
  },
  {
   "cell_type": "code",
   "execution_count": 44,
   "id": "7b14d0cd",
   "metadata": {},
   "outputs": [
    {
     "name": "stdout",
     "output_type": "stream",
     "text": [
      "The average accuracy for all cv folds is: \t\t\t 0.91422\n",
      "The average precision for all cv folds is: \t\t\t 0.9295\n",
      "The average recall for all cv folds is: \t\t\t 0.95248\n",
      "The average F1 for all cv folds is: \t\t\t\t 0.940848\n",
      "*********************************************************\n",
      "Cross Validation Fold Mean Error Scores\n"
     ]
    },
    {
     "data": {
      "text/html": [
       "<div>\n",
       "<style scoped>\n",
       "    .dataframe tbody tr th:only-of-type {\n",
       "        vertical-align: middle;\n",
       "    }\n",
       "\n",
       "    .dataframe tbody tr th {\n",
       "        vertical-align: top;\n",
       "    }\n",
       "\n",
       "    .dataframe thead th {\n",
       "        text-align: right;\n",
       "    }\n",
       "</style>\n",
       "<table border=\"1\" class=\"dataframe\">\n",
       "  <thead>\n",
       "    <tr style=\"text-align: right;\">\n",
       "      <th></th>\n",
       "      <th>Accuracy</th>\n",
       "      <th>Precision</th>\n",
       "      <th>Recall</th>\n",
       "      <th>F1</th>\n",
       "    </tr>\n",
       "  </thead>\n",
       "  <tbody>\n",
       "    <tr>\n",
       "      <th>0</th>\n",
       "      <td>0.915051</td>\n",
       "      <td>0.928504</td>\n",
       "      <td>0.954933</td>\n",
       "      <td>0.941533</td>\n",
       "    </tr>\n",
       "    <tr>\n",
       "      <th>1</th>\n",
       "      <td>0.909568</td>\n",
       "      <td>0.925184</td>\n",
       "      <td>0.950620</td>\n",
       "      <td>0.937729</td>\n",
       "    </tr>\n",
       "    <tr>\n",
       "      <th>2</th>\n",
       "      <td>0.915978</td>\n",
       "      <td>0.931303</td>\n",
       "      <td>0.952992</td>\n",
       "      <td>0.942023</td>\n",
       "    </tr>\n",
       "    <tr>\n",
       "      <th>3</th>\n",
       "      <td>0.915746</td>\n",
       "      <td>0.932467</td>\n",
       "      <td>0.951267</td>\n",
       "      <td>0.941773</td>\n",
       "    </tr>\n",
       "    <tr>\n",
       "      <th>4</th>\n",
       "      <td>0.917136</td>\n",
       "      <td>0.933502</td>\n",
       "      <td>0.952124</td>\n",
       "      <td>0.942721</td>\n",
       "    </tr>\n",
       "    <tr>\n",
       "      <th>5</th>\n",
       "      <td>0.913043</td>\n",
       "      <td>0.925616</td>\n",
       "      <td>0.955359</td>\n",
       "      <td>0.940253</td>\n",
       "    </tr>\n",
       "    <tr>\n",
       "      <th>6</th>\n",
       "      <td>0.914588</td>\n",
       "      <td>0.929172</td>\n",
       "      <td>0.953418</td>\n",
       "      <td>0.941139</td>\n",
       "    </tr>\n",
       "    <tr>\n",
       "      <th>7</th>\n",
       "      <td>0.908326</td>\n",
       "      <td>0.925408</td>\n",
       "      <td>0.948458</td>\n",
       "      <td>0.936791</td>\n",
       "    </tr>\n",
       "    <tr>\n",
       "      <th>8</th>\n",
       "      <td>0.914736</td>\n",
       "      <td>0.930635</td>\n",
       "      <td>0.951909</td>\n",
       "      <td>0.941151</td>\n",
       "    </tr>\n",
       "    <tr>\n",
       "      <th>9</th>\n",
       "      <td>0.917980</td>\n",
       "      <td>0.933214</td>\n",
       "      <td>0.953742</td>\n",
       "      <td>0.943366</td>\n",
       "    </tr>\n",
       "  </tbody>\n",
       "</table>\n",
       "</div>"
      ],
      "text/plain": [
       "   Accuracy  Precision    Recall        F1\n",
       "0  0.915051   0.928504  0.954933  0.941533\n",
       "1  0.909568   0.925184  0.950620  0.937729\n",
       "2  0.915978   0.931303  0.952992  0.942023\n",
       "3  0.915746   0.932467  0.951267  0.941773\n",
       "4  0.917136   0.933502  0.952124  0.942721\n",
       "5  0.913043   0.925616  0.955359  0.940253\n",
       "6  0.914588   0.929172  0.953418  0.941139\n",
       "7  0.908326   0.925408  0.948458  0.936791\n",
       "8  0.914736   0.930635  0.951909  0.941151\n",
       "9  0.917980   0.933214  0.953742  0.943366"
      ]
     },
     "execution_count": 44,
     "metadata": {},
     "output_type": "execute_result"
    }
   ],
   "source": [
    "classifierEst_7 = regGridSearch.best_estimator_\n",
    "\n",
    "EvaluateClassifierEstimator(classifierEst_7, X_b, y_b, cv)"
   ]
  },
  {
   "cell_type": "markdown",
   "id": "7f529807",
   "metadata": {},
   "source": [
    "## Modeling and Evaluation 4\n",
    "\n",
    "All the model parameters are chosen based on previous GridSearchCV when we plot ROC curve, pair t test and attributes feature importance analysis.\n",
    "\n",
    "We chose to use ROC curve as our visualization tools to bolster our analysis. The ROC curve is created by plotting the true positive rate (recall) against the false positive rate (FPR) at various threshold settings. And the area under the curve (AUC) can help us compare different models easily. Therefore, ROC curve and AUC can not only help us to choose the optimal threshold value, but also help us determine which model yields the best prediction result.\n",
    "\n",
    "Unlike we used recall and precision as our evaluation metrics previously, we will keep recall (True positive rate) as y-axis, but use false positive rate as x-axis to draw ROC curve below.\n",
    "\n",
    "Below are the ROC curves for all the models considering Satisfaction as the predicted feature. We can observe from the AUC of the ROC that Random Forest classifer and Neural network classifier have the highest AUC (approx. 0.99)."
   ]
  },
  {
   "cell_type": "code",
   "execution_count": 93,
   "id": "b4a92116",
   "metadata": {},
   "outputs": [],
   "source": [
    "# ROC for all models for satisfaction classification\n",
    "from sklearn.metrics import roc_curve, roc_auc_score\n",
    "from sklearn.model_selection import train_test_split\n",
    "from sklearn import preprocessing\n",
    "\n",
    "\n",
    "classifiers_a = [LogisticRegression(C=1000, class_weight='balanced',\n",
    "                                    random_state=5, solver='saga'), \n",
    "               DecisionTreeClassifier(class_weight='balanced',\n",
    "                                        criterion='entropy', max_depth=50,\n",
    "                                        random_state=5),\n",
    "               RandomForestClassifier(class_weight='balanced',\n",
    "                                        criterion='entropy', max_depth=50,n_jobs=7,\n",
    "                                        n_estimators=200, random_state=5),\n",
    "               SVC(C=1, gamma='auto',degree=3,kernel='rbf',random_state=5,probability=True),\n",
    "               MLPClassifier(alpha=100, max_iter=500, random_state=5,\n",
    "                               solver='lbfgs')]\n",
    "\n",
    "X_train_a, X_test_a, y_train_a, y_test_a = train_test_split(X_a, y_a, random_state=5, test_size=0.2)\n",
    "scaler_a = preprocessing.StandardScaler().fit(X_train_a)\n",
    "X_train_scaled_a = scaler_a.transform(X_train_a)\n",
    "X_test_scaled_a = scaler_a.transform(X_test_a)\n",
    "\n",
    "result_table_a = pd.DataFrame(columns=['classifiers', 'fpr','tpr','auc','thresholds'])\n",
    "thresholds_a=pd.DataFrame(columns=['thresholds','classifiers'])\n",
    "\n",
    "# Train the models and record the results\n",
    "for cls in classifiers_a:\n",
    "    model_a = cls.fit(X_train_scaled_a, y_train_a)\n",
    "    yhat_a = model_a.predict_proba(X_test_scaled_a)[::,1]\n",
    "    \n",
    "    fpr, tpr, thresholds = roc_curve(y_test_a,  yhat_a)\n",
    "    auc = roc_auc_score(y_test_a, yhat_a)\n",
    "    \n",
    "    i = np.arange(len(tpr))\n",
    "    roc = pd.DataFrame({'tf' : pd.Series(tpr-(1-fpr), index=i), 'thresholds': pd.Series(thresholds, index=i)})\n",
    "    roc_t = roc.iloc[(roc.tf-0).abs().argsort()[:1]]\n",
    "    \n",
    "    result_table_a = result_table_a.append({'classifiers':cls.__class__.__name__,\n",
    "                                        'fpr':fpr, \n",
    "                                        'tpr':tpr, \n",
    "                                        'auc':auc}, ignore_index=True)\n",
    "    thresholds_a = thresholds_a.append({'classifiers':cls.__class__.__name__, 'thresholds':roc_t['thresholds']},\n",
    "                                       ignore_index=True)\n",
    "\n",
    "\n",
    "# Set name of the classifiers as index labels\n",
    "result_table_a.set_index('classifiers', inplace=True)"
   ]
  },
  {
   "cell_type": "markdown",
   "id": "b87b1e16",
   "metadata": {},
   "source": [
    "Below is threshold values for each model for Satisfaction classification."
   ]
  },
  {
   "cell_type": "code",
   "execution_count": 95,
   "id": "62343641",
   "metadata": {},
   "outputs": [
    {
     "name": "stdout",
     "output_type": "stream",
     "text": [
      "+----+--------------+------------------------+\n",
      "|    |   thresholds | classifiers            |\n",
      "|----+--------------+------------------------|\n",
      "|  0 |     0.47503  | LogisticRegression     |\n",
      "|  1 |     0.567126 | DecisionTreeClassifier |\n",
      "|  2 |     0.385    | RandomForestClassifier |\n",
      "|  3 |     0.306452 | SVC                    |\n",
      "|  4 |     0.359119 | MLPClassifier          |\n",
      "+----+--------------+------------------------+\n"
     ]
    }
   ],
   "source": [
    "from tabulate import tabulate\n",
    "print(tabulate(thresholds_a,headers='keys', tablefmt='psql'))"
   ]
  },
  {
   "cell_type": "code",
   "execution_count": 97,
   "id": "9d2d8d2c",
   "metadata": {
    "scrolled": false
   },
   "outputs": [
    {
     "data": {
      "image/png": "[encoded data removed]",
      "text/plain": [
       "<Figure size 720x720 with 1 Axes>"
      ]
     },
     "metadata": {},
     "output_type": "display_data"
    }
   ],
   "source": [
    "%matplotlib inline\n",
    "import matplotlib.pyplot as plt\n",
    "import seaborn as sns\n",
    "sns.set()\n",
    "\n",
    "fig = plt.figure(figsize=(10,10))\n",
    "\n",
    "for i in result_table_a.index:\n",
    "    plt.plot(result_table_a.loc[i]['fpr'], \n",
    "             result_table_a.loc[i]['tpr'], \n",
    "             label=\"{}, AUC={:.3f}\".format(i, result_table_a.loc[i]['auc']))\n",
    "    \n",
    "plt.plot([0,1], [0,1], color='orange', linestyle='--')\n",
    "\n",
    "plt.xticks(np.arange(0.0, 1.1, step=0.1))\n",
    "plt.xlabel(\"Flase Positive Rate\", fontsize=15)\n",
    "\n",
    "plt.yticks(np.arange(0.0, 1.1, step=0.1))\n",
    "plt.ylabel(\"True Positive Rate\", fontsize=15)\n",
    "\n",
    "plt.title('ROC Curve Analysis for Statisfaction Classification', fontweight='bold', fontsize=15)\n",
    "plt.legend(prop={'size':13}, loc='lower right')\n",
    "\n",
    "plt.show()"
   ]
  },
  {
   "cell_type": "markdown",
   "id": "b167e63c",
   "metadata": {},
   "source": [
    "Below are the ROC curves for all the models considering Cleanliness as predicted feature. We can observe from the AUC of the ROC that Random Forest classifer and Neural network classifier have the highest AUC (approx. 0.97). "
   ]
  },
  {
   "cell_type": "code",
   "execution_count": 98,
   "id": "556f6fe9",
   "metadata": {},
   "outputs": [],
   "source": [
    "# ROC for all models for cleanliness classification\n",
    "\n",
    "classifiers_b = [LogisticRegression(C=1000, class_weight='balanced',\n",
    "                                    random_state=5, solver='saga'), \n",
    "               DecisionTreeClassifier(class_weight='balanced',\n",
    "                                        criterion='entropy', max_depth=50,\n",
    "                                        random_state=5),\n",
    "               RandomForestClassifier(class_weight='balanced',\n",
    "                                        criterion='entropy', max_depth=50,n_jobs=7,\n",
    "                                        n_estimators=200, random_state=5),\n",
    "               SVC(C=1, gamma='auto',degree=3,kernel='rbf',random_state=5,probability=True),\n",
    "               MLPClassifier(alpha=100, max_iter=500, random_state=5,\n",
    "                               solver='lbfgs')]\n",
    "\n",
    "X_train_b, X_test_b, y_train_b, y_test_b = train_test_split(X_b, y_b, random_state=5, test_size=0.2)\n",
    "scaler_b = preprocessing.StandardScaler().fit(X_train_b)\n",
    "X_train_scaled_b = scaler_b.transform(X_train_b)\n",
    "X_test_scaled_b = scaler_b.transform(X_test_b)\n",
    "\n",
    "result_table_b = pd.DataFrame(columns=['classifiers', 'fpr','tpr','auc','thresholds'])\n",
    "thresholds_b=pd.DataFrame(columns=['thresholds','classifiers'])\n",
    "\n",
    "# Train the models and record the results\n",
    "for cls in classifiers_b:\n",
    "    model_b = cls.fit(X_train_scaled_b, y_train_b)\n",
    "    yhat_b = model_b.predict_proba(X_test_scaled_b)[::,1]\n",
    "    \n",
    "    fpr, tpr, thresholds  = roc_curve(y_test_b,  yhat_b)\n",
    "    auc = roc_auc_score(y_test_b, yhat_b)\n",
    "    i = np.arange(len(tpr))\n",
    "    roc = pd.DataFrame({'tf' : pd.Series(tpr-(1-fpr), index=i), 'thresholds' : pd.Series(thresholds, index=i)})\n",
    "    roc_t = roc.iloc[(roc.tf-0).abs().argsort()[:1]]\n",
    "    \n",
    "    result_table_b = result_table_b.append({'classifiers':cls.__class__.__name__,\n",
    "                                        'fpr':fpr, \n",
    "                                        'tpr':tpr, \n",
    "                                        'auc':auc}, ignore_index=True)\n",
    "    thresholds_b = thresholds_a.append({'classifiers':cls.__class__.__name__, 'thresholds':roc_t['thresholds']},\n",
    "                                       ignore_index=True)\n",
    "\n",
    "\n",
    "# Set name of the classifiers as index labels\n",
    "result_table_b.set_index('classifiers', inplace=True)"
   ]
  },
  {
   "cell_type": "markdown",
   "id": "98809e0b",
   "metadata": {},
   "source": [
    "Below is threshold values for each model for Cleanliness classification."
   ]
  },
  {
   "cell_type": "code",
   "execution_count": 99,
   "id": "52f9e9a0",
   "metadata": {},
   "outputs": [
    {
     "name": "stdout",
     "output_type": "stream",
     "text": [
      "+----+--------------+------------------------+\n",
      "|    |   thresholds | classifiers            |\n",
      "|----+--------------+------------------------|\n",
      "|  0 |     0.47503  | LogisticRegression     |\n",
      "|  1 |     0.567126 | DecisionTreeClassifier |\n",
      "|  2 |     0.385    | RandomForestClassifier |\n",
      "|  3 |     0.306452 | SVC                    |\n",
      "|  4 |     0.359119 | MLPClassifier          |\n",
      "|  5 |     0.663211 | MLPClassifier          |\n",
      "+----+--------------+------------------------+\n"
     ]
    }
   ],
   "source": [
    "print(tabulate(thresholds_b,headers='keys', tablefmt='psql'))"
   ]
  },
  {
   "cell_type": "code",
   "execution_count": 100,
   "id": "178842c4",
   "metadata": {
    "scrolled": false
   },
   "outputs": [
    {
     "data": {
      "image/png": "[encoded data removed]",
      "text/plain": [
       "<Figure size 720x720 with 1 Axes>"
      ]
     },
     "metadata": {},
     "output_type": "display_data"
    }
   ],
   "source": [
    "fig = plt.figure(figsize=(10,10))\n",
    "\n",
    "for i in result_table_b.index:\n",
    "    plt.plot(result_table_b.loc[i]['fpr'], \n",
    "             result_table_b.loc[i]['tpr'], \n",
    "             label=\"{}, AUC={:.3f}\".format(i, result_table_b.loc[i]['auc']))\n",
    "    \n",
    "plt.plot([0,1], [0,1], color='orange', linestyle='--')\n",
    "\n",
    "plt.xticks(np.arange(0.0, 1.1, step=0.1))\n",
    "plt.xlabel(\"Flase Positive Rate\", fontsize=15)\n",
    "\n",
    "plt.yticks(np.arange(0.0, 1.1, step=0.1))\n",
    "plt.ylabel(\"True Positive Rate\", fontsize=15)\n",
    "\n",
    "plt.title('ROC Curve Analysis for Cleanliness Classification', fontweight='bold', fontsize=15)\n",
    "plt.legend(prop={'size':13}, loc='lower right')\n",
    "\n",
    "plt.show()"
   ]
  },
  {
   "cell_type": "markdown",
   "id": "d793befc",
   "metadata": {},
   "source": [
    "#### Conclusion\n",
    "\n",
    "ROC Curve is a very powerful visualization tool that plots all the model performances in a single plot and audience can tell what model is the best directly based on AUC. So audience will be interested in Random Forest model as both satisfaction and cleanliness classifications, Random Forest model gives the highest AUC. \n",
    "Furthermore, ROC function gives cutoff values(thresholds) for each model."
   ]
  },
  {
   "cell_type": "markdown",
   "id": "d4ad33b1",
   "metadata": {},
   "source": [
    "## Modeling and Evaluation 5"
   ]
  },
  {
   "cell_type": "markdown",
   "id": "5d94c4f4",
   "metadata": {},
   "source": [
    "### Summary:"
   ]
  },
  {
   "attachments": {
    "Summary.jpg": {
     "image/jpeg": "[encoded data removed]"
    }
   },
   "cell_type": "markdown",
   "id": "e24cfc21",
   "metadata": {},
   "source": [
    "![Summary.jpg](attachment:Summary.jpg)"
   ]
  },
  {
   "cell_type": "code",
   "execution_count": 49,
   "id": "2f85a0d1",
   "metadata": {},
   "outputs": [
    {
     "name": "stdout",
     "output_type": "stream",
     "text": [
      "Random Forest accuracy: 95.93%\n",
      "Multi-layer Perceptron accuracy: 95.59%\n"
     ]
    }
   ],
   "source": [
    "#Satisfaction classification shows Random Forest and MLP classifers have top two accuracies \n",
    "from mlxtend.evaluate import paired_ttest_5x2cv\n",
    "\n",
    "clf1_a = RandomForestClassifier(class_weight='balanced', max_depth=20,n_jobs=7, n_estimators=200, random_state=5)\n",
    "clf2_a = MLPClassifier(alpha=10, max_iter=500, random_state=5, solver='lbfgs')\n",
    "\n",
    "score1_a = clf1_a.fit(X_train_scaled_a, y_train_a).score(X_test_scaled_a, y_test_a)\n",
    "score2_a = clf2_a.fit(X_train_scaled_a, y_train_a).score(X_test_scaled_a, y_test_a)\n",
    "\n",
    "print('Random Forest accuracy: %.2f%%' % (score1_a*100))\n",
    "print('Multi-layer Perceptron accuracy: %.2f%%' % (score2_a*100))"
   ]
  },
  {
   "cell_type": "code",
   "execution_count": 50,
   "id": "a35007e8",
   "metadata": {},
   "outputs": [
    {
     "name": "stdout",
     "output_type": "stream",
     "text": [
      "t statistic: 2.278\n",
      "p value: 0.072\n"
     ]
    }
   ],
   "source": [
    "t, p = paired_ttest_5x2cv(estimator1=clf1_a, estimator2=clf2_a, X=X_a, y=y_a, random_seed=5)\n",
    "\n",
    "print('t statistic: %.3f' % t)\n",
    "print('p value: %.3f' % p)"
   ]
  },
  {
   "cell_type": "markdown",
   "id": "aa87b880",
   "metadata": {},
   "source": [
    "Paired t test carried out for the satisfaction classification using Random forest and Neural netowork shows a two sided p-value of 0.072 (>0.05, 95% confidence). So we fail to reject the null hypothesis that the accuracies of Random forest and neural networks are the same. But we have to be careful as we can't assume the independence between two model accruacies."
   ]
  },
  {
   "cell_type": "code",
   "execution_count": 51,
   "id": "971fb30a",
   "metadata": {},
   "outputs": [
    {
     "name": "stdout",
     "output_type": "stream",
     "text": [
      "Random Forest accuracy: 92.07%\n",
      "Multi-layer Perceptron accuracy: 91.90%\n"
     ]
    }
   ],
   "source": [
    "#Cleanliness classification shows Random Forest and MLP classifers have top two accuracies\n",
    "clf1_b = RandomForestClassifier(class_weight='balanced', criterion='entropy', max_depth=50,n_jobs=7, n_estimators=150, random_state=5)\n",
    "clf2_b = MLPClassifier(alpha=100, max_iter=500, random_state=5, solver='lbfgs')\n",
    "\n",
    "score1_b = clf1_b.fit(X_train_scaled_b, y_train_b).score(X_test_scaled_b, y_test_b)\n",
    "score2_b = clf2_b.fit(X_train_scaled_b, y_train_b).score(X_test_scaled_b, y_test_b)\n",
    "\n",
    "print('Random Forest accuracy: %.2f%%' % (score1_b*100))\n",
    "print('Multi-layer Perceptron accuracy: %.2f%%' % (score2_b*100))"
   ]
  },
  {
   "cell_type": "code",
   "execution_count": 52,
   "id": "85b42e52",
   "metadata": {},
   "outputs": [
    {
     "name": "stdout",
     "output_type": "stream",
     "text": [
      "t statistic: 4.675\n",
      "p value: 0.005\n"
     ]
    }
   ],
   "source": [
    "t, p = paired_ttest_5x2cv(estimator1=clf1_b, estimator2=clf2_b, X=X_b, y=y_b, random_seed=5)\n",
    "\n",
    "print('t statistic: %.3f' % t)\n",
    "print('p value: %.3f' % p)"
   ]
  },
  {
   "cell_type": "markdown",
   "id": "0c3fd00d",
   "metadata": {},
   "source": [
    "Paired t test carried out for the cleanliness classification using Random forest and Neural netowork shows a two sided p-value of 0.005 (<0.05, 95% confidence). So we reject the null hypothesis that the accuracies of Random forest and neural networks are the same. But we have to be careful as we can't assume the independence between two model accruacies."
   ]
  },
  {
   "cell_type": "markdown",
   "id": "b64dad43",
   "metadata": {},
   "source": [
    "#### Conclusion\n",
    "\n",
    "Both Random Forest and Neural Network yield the promising results, but Random Forest runs faster than Neural Network as Random Forest is one of the Ensemble classifers. It bootstraps the data plus using the aggregate to make decisions(Bagging), so it can run parallel at each core which allows it uses the computer resource efficiently.\n",
    "\n",
    "Therefore Random Forest and Neural Network are two outstanding classifers among others, but Random Forest classifer is better than Neural Network as it runs more efficiently and quicker."
   ]
  },
  {
   "cell_type": "markdown",
   "id": "f4d906d2",
   "metadata": {},
   "source": [
    "## Modeling and Evaluation 6\n",
    "\n",
    "#### Satisfaction Classification Important features\n"
   ]
  },
  {
   "cell_type": "code",
   "execution_count": 53,
   "id": "78551019",
   "metadata": {},
   "outputs": [
    {
     "data": {
      "text/plain": [
       "RandomForestClassifier(class_weight='balanced', max_depth=50, n_estimators=200,\n",
       "                       random_state=5)"
      ]
     },
     "execution_count": 53,
     "metadata": {},
     "output_type": "execute_result"
    }
   ],
   "source": [
    "scaler = StandardScaler()\n",
    "scaler.fit(X_a)\n",
    "\n",
    "#Transform training data to z-scores\n",
    "#This makes our model's coefficients take on the same scale for accurate feature importance analisys \n",
    "X_a_Scl = scaler.transform(X_a)\n",
    "\n",
    "regEstimator_a = RandomForestClassifier(class_weight='balanced', max_depth=50, n_estimators=200, random_state=5)\n",
    "regEstimator_a.fit(X_a_Scl, y_a)"
   ]
  },
  {
   "cell_type": "code",
   "execution_count": 54,
   "id": "8b99cd57",
   "metadata": {},
   "outputs": [],
   "source": [
    "weights = regEstimator_a.feature_importances_.ravel()\n",
    "feature_names = airline_df_dummy_satisfied.drop('satisfaction', axis=1).copy().columns.values                  \n",
    "linreg_ft_imp_df = pd.DataFrame({'feature_names':feature_names, 'weights':weights, 'absolute_weights': np.abs(weights)})\n",
    "linreg_ft_imp_df.sort_values(by='absolute_weights', inplace=True, ascending=False )"
   ]
  },
  {
   "cell_type": "code",
   "execution_count": 55,
   "id": "94cc053b",
   "metadata": {},
   "outputs": [
    {
     "data": {
      "image/png": "[encoded data removed]",
      "text/plain": [
       "<Figure size 1440x576 with 1 Axes>"
      ]
     },
     "metadata": {},
     "output_type": "display_data"
    }
   ],
   "source": [
    "plt.style.use('ggplot')\n",
    "\n",
    "wt_plt_df = linreg_ft_imp_df.head(75)\n",
    "\n",
    "weights = pd.Series(wt_plt_df['weights'].values,index=wt_plt_df['feature_names'])\n",
    "ax = weights.plot(kind='bar', figsize=(20,8))\n",
    "\n",
    "ax.set_title(\"Top Feature Correlations for Satisfaction Classification\")\n",
    "ax.set_ylabel(\"Coefficient Magnitude\\n(z-score)\")\n",
    "ax.set_xlabel(\"Feature Names\")\n",
    "plt.show()"
   ]
  },
  {
   "cell_type": "markdown",
   "id": "082f2f79",
   "metadata": {},
   "source": [
    "From the above graph: 3 Important features that contribute to satisfaction\n",
    "- infight wifi service\n",
    "- online boarding\n",
    "- customer_class_business\n",
    "\n",
    "The features of lower contribution for satisfaction:\n",
    "- departure/arrival delay range_2 (>90 min)\n",
    "- arrival/arrival delay range_1 (>30-90min)\n",
    "- age range 2 (>65 years)\n",
    "\n",
    "The airliners should mostly concentrate on inflight wifi service and pleasent online boarding as these two are the major contributors for satisfaction.\n"
   ]
  },
  {
   "cell_type": "code",
   "execution_count": 56,
   "id": "f9e8edd9",
   "metadata": {},
   "outputs": [
    {
     "data": {
      "text/plain": [
       "RFECV(cv=StratifiedKFold(n_splits=10, random_state=5, shuffle=True),\n",
       "      estimator=RandomForestClassifier(class_weight='balanced', max_depth=50,\n",
       "                                       n_estimators=200, random_state=5),\n",
       "      scoring='accuracy')"
      ]
     },
     "execution_count": 56,
     "metadata": {},
     "output_type": "execute_result"
    }
   ],
   "source": [
    "from sklearn.feature_selection import RFECV\n",
    "#Create a regression estimator with best parameters for cross validation\n",
    "rfecv_a = RFECV(estimator=regEstimator_a, step=1, cv=cv, scoring='accuracy')\n",
    "rfecv_a.fit(X_a_Scl, y_a)"
   ]
  },
  {
   "cell_type": "code",
   "execution_count": 57,
   "id": "fa75a09b",
   "metadata": {},
   "outputs": [
    {
     "name": "stdout",
     "output_type": "stream",
     "text": [
      "Optimal number of features : 25\n"
     ]
    },
    {
     "data": {
      "image/png": "[encoded data removed]",
      "text/plain": [
       "<Figure size 432x288 with 1 Axes>"
      ]
     },
     "metadata": {},
     "output_type": "display_data"
    }
   ],
   "source": [
    "print(\"Optimal number of features : %d\" % rfecv_a.n_features_)\n",
    "# Plot number of features VS. cross-validation scores\n",
    "plt.figure()\n",
    "plt.xlabel(\"Number of features selected - Satisfaction\")\n",
    "plt.ylabel(\"Cross validation score (nb of correct classifications)\")\n",
    "plt.plot(range(1, len(rfecv_a.grid_scores_) + 1), rfecv_a.grid_scores_)\n",
    "plt.show()"
   ]
  },
  {
   "cell_type": "code",
   "execution_count": 58,
   "id": "29fd2bdf",
   "metadata": {},
   "outputs": [
    {
     "data": {
      "text/html": [
       "<div>\n",
       "<style scoped>\n",
       "    .dataframe tbody tr th:only-of-type {\n",
       "        vertical-align: middle;\n",
       "    }\n",
       "\n",
       "    .dataframe tbody tr th {\n",
       "        vertical-align: top;\n",
       "    }\n",
       "\n",
       "    .dataframe thead th {\n",
       "        text-align: right;\n",
       "    }\n",
       "</style>\n",
       "<table border=\"1\" class=\"dataframe\">\n",
       "  <thead>\n",
       "    <tr style=\"text-align: right;\">\n",
       "      <th></th>\n",
       "      <th>feature_names</th>\n",
       "      <th>weights</th>\n",
       "    </tr>\n",
       "  </thead>\n",
       "  <tbody>\n",
       "    <tr>\n",
       "      <th>24</th>\n",
       "      <td>flight_range_1</td>\n",
       "      <td>0.961602</td>\n",
       "    </tr>\n",
       "    <tr>\n",
       "      <th>25</th>\n",
       "      <td>flight_range_2</td>\n",
       "      <td>0.961386</td>\n",
       "    </tr>\n",
       "    <tr>\n",
       "      <th>22</th>\n",
       "      <td>customer_class_Eco Plus</td>\n",
       "      <td>0.961293</td>\n",
       "    </tr>\n",
       "    <tr>\n",
       "      <th>27</th>\n",
       "      <td>departure_delay_range_1</td>\n",
       "      <td>0.961278</td>\n",
       "    </tr>\n",
       "    <tr>\n",
       "      <th>20</th>\n",
       "      <td>customer_class_Business</td>\n",
       "      <td>0.961239</td>\n",
       "    </tr>\n",
       "    <tr>\n",
       "      <th>29</th>\n",
       "      <td>arrival_delay_range_0</td>\n",
       "      <td>0.961170</td>\n",
       "    </tr>\n",
       "    <tr>\n",
       "      <th>26</th>\n",
       "      <td>departure_delay_range_0</td>\n",
       "      <td>0.961162</td>\n",
       "    </tr>\n",
       "    <tr>\n",
       "      <th>23</th>\n",
       "      <td>flight_range_0</td>\n",
       "      <td>0.961131</td>\n",
       "    </tr>\n",
       "    <tr>\n",
       "      <th>21</th>\n",
       "      <td>customer_class_Eco</td>\n",
       "      <td>0.961077</td>\n",
       "    </tr>\n",
       "    <tr>\n",
       "      <th>28</th>\n",
       "      <td>departure_delay_range_2</td>\n",
       "      <td>0.961054</td>\n",
       "    </tr>\n",
       "  </tbody>\n",
       "</table>\n",
       "</div>"
      ],
      "text/plain": [
       "              feature_names   weights\n",
       "24           flight_range_1  0.961602\n",
       "25           flight_range_2  0.961386\n",
       "22  customer_class_Eco Plus  0.961293\n",
       "27  departure_delay_range_1  0.961278\n",
       "20  customer_class_Business  0.961239\n",
       "29    arrival_delay_range_0  0.961170\n",
       "26  departure_delay_range_0  0.961162\n",
       "23           flight_range_0  0.961131\n",
       "21       customer_class_Eco  0.961077\n",
       "28  departure_delay_range_2  0.961054"
      ]
     },
     "execution_count": 58,
     "metadata": {},
     "output_type": "execute_result"
    }
   ],
   "source": [
    "#Plot the RFE Rankings\n",
    "plt.style.use('ggplot')\n",
    "rfe_ft_imp_df_a = pd.DataFrame({'feature_names':airline_df_dummy_satisfied.drop('satisfaction', axis=1).copy().columns, 'weights':rfecv_a.grid_scores_})\n",
    "rfe_ft_imp_df_a.sort_values(by='weights', inplace=True, ascending=False )\n",
    "topfeatures_a = rfe_ft_imp_df_a.head(10)\n",
    "topfeatures_a"
   ]
  },
  {
   "cell_type": "markdown",
   "id": "caa94140",
   "metadata": {},
   "source": [
    "\n",
    "\n",
    "#### Cleanliness Classification Important features"
   ]
  },
  {
   "cell_type": "code",
   "execution_count": 59,
   "id": "73e117b3",
   "metadata": {},
   "outputs": [
    {
     "data": {
      "text/plain": [
       "RandomForestClassifier(class_weight='balanced', criterion='entropy',\n",
       "                       max_depth=50, n_estimators=150, random_state=5)"
      ]
     },
     "execution_count": 59,
     "metadata": {},
     "output_type": "execute_result"
    }
   ],
   "source": [
    "scaler.fit(X_b)\n",
    "\n",
    "X_b_Scl = scaler.transform(X_b)\n",
    "\n",
    "regEstimator_b = RandomForestClassifier(class_weight='balanced',criterion='entropy', max_depth=50, n_estimators=150, random_state=5)\n",
    "regEstimator_b.fit(X_b_Scl, y_b)"
   ]
  },
  {
   "cell_type": "code",
   "execution_count": 60,
   "id": "c6f1da07",
   "metadata": {},
   "outputs": [],
   "source": [
    "weights = regEstimator_b.feature_importances_.ravel()\n",
    "feature_names = airline_df_dummy_clean.drop('clean', axis=1).copy().columns.values                                  \n",
    "linreg_ft_imp_df = pd.DataFrame({'feature_names':feature_names, 'weights':weights, 'absolute_weights': np.abs(weights)})\n",
    "linreg_ft_imp_df.sort_values(by='absolute_weights', inplace=True, ascending=False )"
   ]
  },
  {
   "cell_type": "code",
   "execution_count": 61,
   "id": "9f30a613",
   "metadata": {},
   "outputs": [
    {
     "data": {
      "image/png": "[encoded data removed]",
      "text/plain": [
       "<Figure size 1440x576 with 1 Axes>"
      ]
     },
     "metadata": {},
     "output_type": "display_data"
    }
   ],
   "source": [
    "plt.style.use('ggplot')\n",
    "\n",
    "wt_plt_df = linreg_ft_imp_df.head(75)\n",
    "\n",
    "weights = pd.Series(wt_plt_df['weights'].values,index=wt_plt_df['feature_names'])\n",
    "ax = weights.plot(kind='bar', figsize=(20,8))\n",
    "\n",
    "ax.set_title(\"Top Feature Correlations for Cleanliness Classification\")\n",
    "ax.set_ylabel(\"Coefficient Magnitude\\n(z-score)\")\n",
    "ax.set_xlabel(\"Feature Names\")\n",
    "plt.show()"
   ]
  },
  {
   "cell_type": "markdown",
   "id": "26031045",
   "metadata": {},
   "source": [
    "From the above graph: 3 Important features that contribute to cleanliness\n",
    "- food and drink\n",
    "- inflight entertainment\n",
    "- wifi_comfort\n",
    "\n",
    "The features of lower contribution for cleanliness:\n",
    "- age_range 0 (<16 years)\n",
    "- customer_class_ECO_Plus\n",
    "- age range 1/2 (16-65 years)\n",
    "\n",
    "It is interesting to note that all the age ranges does not contribute to cleanliness.\n"
   ]
  },
  {
   "cell_type": "code",
   "execution_count": 62,
   "id": "c4b211c7",
   "metadata": {},
   "outputs": [
    {
     "data": {
      "text/plain": [
       "RFECV(cv=StratifiedKFold(n_splits=10, random_state=5, shuffle=True),\n",
       "      estimator=RandomForestClassifier(class_weight='balanced',\n",
       "                                       criterion='entropy', max_depth=50,\n",
       "                                       n_estimators=150, random_state=5),\n",
       "      scoring='accuracy')"
      ]
     },
     "execution_count": 62,
     "metadata": {},
     "output_type": "execute_result"
    }
   ],
   "source": [
    "#Create a regression estimator with best parameters for cross validation\n",
    "rfecv_b = RFECV(estimator=regEstimator_b, step=1, cv=cv, scoring='accuracy')\n",
    "rfecv_b.fit(X_b_Scl, y_b)"
   ]
  },
  {
   "cell_type": "code",
   "execution_count": 63,
   "id": "1b98acea",
   "metadata": {},
   "outputs": [
    {
     "name": "stdout",
     "output_type": "stream",
     "text": [
      "Optimal number of features : 19\n"
     ]
    },
    {
     "data": {
      "image/png": "[encoded data removed]",
      "text/plain": [
       "<Figure size 432x288 with 1 Axes>"
      ]
     },
     "metadata": {},
     "output_type": "display_data"
    }
   ],
   "source": [
    "print(\"Optimal number of features : %d\" % rfecv_b.n_features_)\n",
    "# Plot number of features VS. cross-validation scores\n",
    "plt.figure()\n",
    "plt.xlabel(\"Number of features selected - Cleanliness\")\n",
    "plt.ylabel(\"Cross validation score (nb of correct classifications)\")\n",
    "plt.plot(range(1, len(rfecv_b.grid_scores_) + 1), rfecv_b.grid_scores_)\n",
    "plt.show()"
   ]
  },
  {
   "cell_type": "code",
   "execution_count": 64,
   "id": "c7d9863f",
   "metadata": {},
   "outputs": [
    {
     "data": {
      "text/html": [
       "<div>\n",
       "<style scoped>\n",
       "    .dataframe tbody tr th:only-of-type {\n",
       "        vertical-align: middle;\n",
       "    }\n",
       "\n",
       "    .dataframe tbody tr th {\n",
       "        vertical-align: top;\n",
       "    }\n",
       "\n",
       "    .dataframe thead th {\n",
       "        text-align: right;\n",
       "    }\n",
       "</style>\n",
       "<table border=\"1\" class=\"dataframe\">\n",
       "  <thead>\n",
       "    <tr style=\"text-align: right;\">\n",
       "      <th></th>\n",
       "      <th>feature_names</th>\n",
       "      <th>weights</th>\n",
       "    </tr>\n",
       "  </thead>\n",
       "  <tbody>\n",
       "    <tr>\n",
       "      <th>18</th>\n",
       "      <td>type_of_travel_Personal Travel</td>\n",
       "      <td>0.919305</td>\n",
       "    </tr>\n",
       "    <tr>\n",
       "      <th>23</th>\n",
       "      <td>flight_range_1</td>\n",
       "      <td>0.919011</td>\n",
       "    </tr>\n",
       "    <tr>\n",
       "      <th>31</th>\n",
       "      <td>arrival_delay_range_0</td>\n",
       "      <td>0.918980</td>\n",
       "    </tr>\n",
       "    <tr>\n",
       "      <th>30</th>\n",
       "      <td>departure_delay_range_2</td>\n",
       "      <td>0.918926</td>\n",
       "    </tr>\n",
       "    <tr>\n",
       "      <th>28</th>\n",
       "      <td>departure_delay_range_0</td>\n",
       "      <td>0.918810</td>\n",
       "    </tr>\n",
       "    <tr>\n",
       "      <th>16</th>\n",
       "      <td>customer_type_disloyal Customer</td>\n",
       "      <td>0.918795</td>\n",
       "    </tr>\n",
       "    <tr>\n",
       "      <th>29</th>\n",
       "      <td>departure_delay_range_1</td>\n",
       "      <td>0.918749</td>\n",
       "    </tr>\n",
       "    <tr>\n",
       "      <th>32</th>\n",
       "      <td>arrival_delay_range_1</td>\n",
       "      <td>0.918733</td>\n",
       "    </tr>\n",
       "    <tr>\n",
       "      <th>25</th>\n",
       "      <td>age_range_0</td>\n",
       "      <td>0.918594</td>\n",
       "    </tr>\n",
       "    <tr>\n",
       "      <th>15</th>\n",
       "      <td>customer_type_Loyal Customer</td>\n",
       "      <td>0.918586</td>\n",
       "    </tr>\n",
       "  </tbody>\n",
       "</table>\n",
       "</div>"
      ],
      "text/plain": [
       "                      feature_names   weights\n",
       "18   type_of_travel_Personal Travel  0.919305\n",
       "23                   flight_range_1  0.919011\n",
       "31            arrival_delay_range_0  0.918980\n",
       "30          departure_delay_range_2  0.918926\n",
       "28          departure_delay_range_0  0.918810\n",
       "16  customer_type_disloyal Customer  0.918795\n",
       "29          departure_delay_range_1  0.918749\n",
       "32            arrival_delay_range_1  0.918733\n",
       "25                      age_range_0  0.918594\n",
       "15     customer_type_Loyal Customer  0.918586"
      ]
     },
     "execution_count": 64,
     "metadata": {},
     "output_type": "execute_result"
    }
   ],
   "source": [
    "#Plot the RFE Rankings\n",
    "plt.style.use('ggplot')\n",
    "rfe_ft_imp_df_b = pd.DataFrame({'feature_names':airline_df_dummy_clean.drop('clean', axis=1).copy().columns, 'weights':rfecv_b.grid_scores_})\n",
    "rfe_ft_imp_df_b.sort_values(by='weights', inplace=True, ascending=False )\n",
    "topfeatures_b = rfe_ft_imp_df_b.head(10)\n",
    "topfeatures_b"
   ]
  },
  {
   "cell_type": "markdown",
   "id": "e41bc327",
   "metadata": {},
   "source": [
    "#### Conclusion\n",
    "\n",
    "According to feature importance and Feature ranking with recursive feature elimination graphs on both classifications, flight range, departure/arrival delay, customer age and customer gender, etc. are all listed as unimportant features in our random forest model. Inflight wifi service, online boarding, inflight entertainment, etc. are listed as important features in our random forest model. It's not hard to tell that the flights' and customers' their own features don't influent our satisfaction prediction, but the services airline provided inflight contribute the most influence in both models. \n",
    "Therefore, enchance the services inflight may bring more customers to take the flights. \n",
    "\n",
    "What interesting is that feature importance and RFECV don't give the exact reversed ranking on attributes, some features are listed important in feature importance analysis may be eliminated early (Rank top) during RFECV (We only listed top 10 ranking features). This is due to feature importance analysis just does one model with single iteration, however, RFECV does multiple cross validations, it selects features by recursively considering smaller and smaller sets of features and the whole procedure is recursively repeated on the pruned set until the desired number of features to select is eventually reached."
   ]
  },
  {
   "cell_type": "markdown",
   "id": "6748238f",
   "metadata": {},
   "source": [
    "## 4. Deployment"
   ]
  },
  {
   "cell_type": "markdown",
   "id": "7343fec2",
   "metadata": {},
   "source": [
    "The models built have proven to be very accurate for predicting flight satisfaction and cleanliness, 95% and 92% respectively.  \n",
    "Companies that may find this useful would-be airline companies such as United, Southwest, Delta etc.  They could offer surveys to their customers during or after the flight for all the inputs that would not already be in their databases and use these to predict satisfaction or cleanliness.  With the recent events of the pandemic, cleanliness is more important now than ever, while it might be obtuse or in poor taste to ask outright what a customer’s thought on cleanliness of the flight was, using the model based on correlated variables will give the airlines the statistics they need to improve it.\n",
    "\n",
    "In addition, other vendors could find these models useful.  By referencing the variables that have the highest feature correlation to that of flight satisfaction or cleanliness, vendors can use this info to sell to new technology or services airlines and be part of their supply chain, or other companies specializing in travel accessories can market these directly to consumers.\n",
    "\n",
    "\n",
    "To deploy the model there are multiple options that would available to the end customer.  Firstly, the full code and all documentation would be placed on a private GitHub to be given to the client.  This can be used or referenced by their development team, auditors etc. or anyone at the customer who needs access to the raw code and full documentation.  There are multiple choices for how the end code can be used by the customer\n",
    "\n",
    "1. Jupyter notebook: Depending on the python and technical skills of the customers employees, a simple jupyter notebook could be built that would allow the customer to manually upload a CSV or excel file to run predictions on new or existing data.\n",
    "\n",
    "2. Web app deployment:  If the company is less technically savvy then a webapp using Django/Flask framework can be created to make operational use of the models very easy.  Similar as above, there could be a button that allows manual uploading of excel/csv files or from a database to allow the customer to run the model without any python coding.\n",
    "\n",
    "3. Python Executable:  If the customer does not want to pay to host a webapp on the cloud, another option would be to create an executable using pyinstaller.  This would function similar to the webapp but would be run locally on the customers desktop and python skills are not needed to run.\n",
    "\n",
    "\n",
    "While the model is useful and accurate now, there could be external factors such as new technologies, pandemics, competition, etc that could create or change the factors that influence overall flight satisfaction and cleanliness.  When possible data should continuously be collected so the model can be rerun with the latest data for training purposes.  Airline companies can use incentive-based surveys to get all of the ordinal ranking information from their customer base whenever possible.  The original dataset contains ~130K records.  As new datapoints are gathered it is advised to remove the oldest from the dataset and on a quarterly basis rerun the models to be up to date with current trends.\n"
   ]
  },
  {
   "cell_type": "markdown",
   "id": "25f0019c",
   "metadata": {},
   "source": [
    "## 5. Exceptional Work:\n",
    "\n",
    "We have run gridsearchCV for hyper-tuning and selecting the parameters for running all the models.\n",
    "\n",
    "We have used the Neural network classifier as additional algorithm for evaluationg the accuracy, precision, recall and F1 score.\n",
    "\n",
    "We have also used Feature ranking with recursive feature elimination to identify the optimal number of features for the best classifer."
   ]
  },
  {
   "cell_type": "code",
   "execution_count": null,
   "id": "59345075",
   "metadata": {},
   "outputs": [],
   "source": []
  }
 ],
 "metadata": {
  "kernelspec": {
   "display_name": "Python 3",
   "language": "python",
   "name": "python3"
  },
  "language_info": {
   "codemirror_mode": {
    "name": "ipython",
    "version": 3
   },
   "file_extension": ".py",
   "mimetype": "text/x-python",
   "name": "python",
   "nbconvert_exporter": "python",
   "pygments_lexer": "ipython3",
   "version": "3.7.10"
  }
 },
 "nbformat": 4,
 "nbformat_minor": 5
}
